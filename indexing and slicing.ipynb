{
 "cells": [
  {
   "cell_type": "markdown",
   "id": "c57f49df",
   "metadata": {},
   "source": [
    "# indexing and slicing "
   ]
  },
  {
   "cell_type": "code",
   "execution_count": 2,
   "id": "e0f96280",
   "metadata": {},
   "outputs": [],
   "source": [
    "import numpy as np"
   ]
  },
  {
   "cell_type": "code",
   "execution_count": 3,
   "id": "f13fc892",
   "metadata": {},
   "outputs": [
    {
     "data": {
      "text/plain": [
       "array([1, 2, 3, 4, 5])"
      ]
     },
     "execution_count": 3,
     "metadata": {},
     "output_type": "execute_result"
    }
   ],
   "source": [
    "arr = np.array([1,2,3,4,5])\n",
    "arr"
   ]
  },
  {
   "cell_type": "code",
   "execution_count": 4,
   "id": "82d4e9eb",
   "metadata": {},
   "outputs": [
    {
     "data": {
      "text/plain": [
       "5"
      ]
     },
     "execution_count": 4,
     "metadata": {},
     "output_type": "execute_result"
    }
   ],
   "source": [
    "arr[-1]"
   ]
  },
  {
   "cell_type": "code",
   "execution_count": 5,
   "id": "4b9bc249",
   "metadata": {},
   "outputs": [
    {
     "data": {
      "text/plain": [
       "1"
      ]
     },
     "execution_count": 5,
     "metadata": {},
     "output_type": "execute_result"
    }
   ],
   "source": [
    "arr[0]"
   ]
  },
  {
   "cell_type": "code",
   "execution_count": 6,
   "id": "0ab87f2b",
   "metadata": {},
   "outputs": [
    {
     "data": {
      "text/plain": [
       "5"
      ]
     },
     "execution_count": 6,
     "metadata": {},
     "output_type": "execute_result"
    }
   ],
   "source": [
    "arr = np.array([[1,2,3,4,5],[6,7,8,9,10]])\n",
    "arr[0,4]"
   ]
  },
  {
   "cell_type": "code",
   "execution_count": 7,
   "id": "3e8d5863",
   "metadata": {},
   "outputs": [
    {
     "data": {
      "text/plain": [
       "array([1, 2, 3, 4, 5])"
      ]
     },
     "execution_count": 7,
     "metadata": {},
     "output_type": "execute_result"
    }
   ],
   "source": [
    " arr[0]"
   ]
  },
  {
   "cell_type": "code",
   "execution_count": 8,
   "id": "3cde11c5",
   "metadata": {},
   "outputs": [
    {
     "data": {
      "text/plain": [
       "array([[[ 0, -2,  5,  2],\n",
       "        [ 4, -1, -3, -2],\n",
       "        [ 6, -2, -3,  3]],\n",
       "\n",
       "       [[ 6,  2,  5,  3],\n",
       "        [ 3,  3,  7,  8],\n",
       "        [ 8,  1,  0,  8]]])"
      ]
     },
     "execution_count": 8,
     "metadata": {},
     "output_type": "execute_result"
    }
   ],
   "source": [
    "# indexing using in  3D array\n",
    "arr= np.random.randint(-3,10,(2,3,4))\n",
    "arr"
   ]
  },
  {
   "cell_type": "code",
   "execution_count": 9,
   "id": "ded5c0d7",
   "metadata": {},
   "outputs": [
    {
     "data": {
      "text/plain": [
       "-3"
      ]
     },
     "execution_count": 9,
     "metadata": {},
     "output_type": "execute_result"
    }
   ],
   "source": [
    " arr[0,2,2]"
   ]
  },
  {
   "cell_type": "code",
   "execution_count": 9,
   "id": "9720d518",
   "metadata": {},
   "outputs": [
    {
     "data": {
      "text/plain": [
       "-1"
      ]
     },
     "execution_count": 9,
     "metadata": {},
     "output_type": "execute_result"
    }
   ],
   "source": [
    "arr[0,1,2]"
   ]
  },
  {
   "cell_type": "code",
   "execution_count": 10,
   "id": "2a332c6a",
   "metadata": {},
   "outputs": [
    {
     "data": {
      "text/plain": [
       "8"
      ]
     },
     "execution_count": 10,
     "metadata": {},
     "output_type": "execute_result"
    }
   ],
   "source": [
    "arr[1,2,3]"
   ]
  },
  {
   "cell_type": "code",
   "execution_count": 11,
   "id": "e9177b35",
   "metadata": {},
   "outputs": [
    {
     "data": {
      "text/plain": [
       "array([3, 3, 7, 8])"
      ]
     },
     "execution_count": 11,
     "metadata": {},
     "output_type": "execute_result"
    }
   ],
   "source": [
    "arr[1,1]"
   ]
  },
  {
   "cell_type": "code",
   "execution_count": 12,
   "id": "b879f364",
   "metadata": {},
   "outputs": [
    {
     "data": {
      "text/plain": [
       "2"
      ]
     },
     "execution_count": 12,
     "metadata": {},
     "output_type": "execute_result"
    }
   ],
   "source": [
    "arr[0,0,3]"
   ]
  },
  {
   "cell_type": "code",
   "execution_count": 13,
   "id": "52531319",
   "metadata": {},
   "outputs": [],
   "source": [
    "arr = np.arange(0,20,2)"
   ]
  },
  {
   "cell_type": "code",
   "execution_count": 14,
   "id": "d2296e91",
   "metadata": {},
   "outputs": [
    {
     "data": {
      "text/plain": [
       "array([ 0,  2,  4,  6,  8, 10, 12, 14, 16, 18])"
      ]
     },
     "execution_count": 14,
     "metadata": {},
     "output_type": "execute_result"
    }
   ],
   "source": [
    "arr"
   ]
  },
  {
   "cell_type": "code",
   "execution_count": 15,
   "id": "4516ba3d",
   "metadata": {},
   "outputs": [
    {
     "data": {
      "text/plain": [
       "array([0])"
      ]
     },
     "execution_count": 15,
     "metadata": {},
     "output_type": "execute_result"
    }
   ],
   "source": [
    "arr[:1]"
   ]
  },
  {
   "cell_type": "code",
   "execution_count": 16,
   "id": "4604231a",
   "metadata": {},
   "outputs": [
    {
     "data": {
      "text/plain": [
       "array([0, 2, 4, 6])"
      ]
     },
     "execution_count": 16,
     "metadata": {},
     "output_type": "execute_result"
    }
   ],
   "source": [
    "arr[:4]"
   ]
  },
  {
   "cell_type": "code",
   "execution_count": 17,
   "id": "bc8f0c58",
   "metadata": {},
   "outputs": [],
   "source": [
    "# difference btw slicing in list and nparray\n",
    "li = [1,2,3,4,5,6,7,8,9]\n"
   ]
  },
  {
   "cell_type": "code",
   "execution_count": 18,
   "id": "dc9f74bd",
   "metadata": {},
   "outputs": [
    {
     "data": {
      "text/plain": [
       "[1, 2, 3, 4, 5]"
      ]
     },
     "execution_count": 18,
     "metadata": {},
     "output_type": "execute_result"
    }
   ],
   "source": [
    "li_slice = li[0:5]\n",
    "li_slice"
   ]
  },
  {
   "cell_type": "code",
   "execution_count": 19,
   "id": "7ec10d12",
   "metadata": {},
   "outputs": [],
   "source": [
    "arr = np.arange(1,10)\n",
    "arr_slice = arr[0:4]"
   ]
  },
  {
   "cell_type": "code",
   "execution_count": 20,
   "id": "81b9e606",
   "metadata": {},
   "outputs": [
    {
     "data": {
      "text/plain": [
       "array([1, 2, 3, 4])"
      ]
     },
     "execution_count": 20,
     "metadata": {},
     "output_type": "execute_result"
    }
   ],
   "source": [
    "arr_slice"
   ]
  },
  {
   "cell_type": "code",
   "execution_count": 21,
   "id": "e50d003b",
   "metadata": {},
   "outputs": [
    {
     "data": {
      "text/plain": [
       "[99, 2, 3, 4, 5]"
      ]
     },
     "execution_count": 21,
     "metadata": {},
     "output_type": "execute_result"
    }
   ],
   "source": [
    "li_slice[0] = 99\n",
    "li_slice"
   ]
  },
  {
   "cell_type": "code",
   "execution_count": 22,
   "id": "f5854485",
   "metadata": {},
   "outputs": [
    {
     "name": "stdout",
     "output_type": "stream",
     "text": [
      "[1, 2, 3, 4, 5, 6, 7, 8, 9] \n",
      " [99, 2, 3, 4, 5]\n"
     ]
    }
   ],
   "source": [
    "print(li,'\\n',li_slice)"
   ]
  },
  {
   "cell_type": "code",
   "execution_count": 23,
   "id": "1c3feac5",
   "metadata": {},
   "outputs": [
    {
     "name": "stdout",
     "output_type": "stream",
     "text": [
      "[2032    2    3    4] \n",
      " [2032    2    3    4    5    6    7    8    9]\n"
     ]
    }
   ],
   "source": [
    "#in nparray the both sliced list and the orginal list also get updated but in the case of list in python it will create another memory for the sliced list \n",
    "arr_slice[0] = 2032\n",
    "print(arr_slice,'\\n',arr)"
   ]
  },
  {
   "cell_type": "code",
   "execution_count": 31,
   "id": "5425a94e",
   "metadata": {},
   "outputs": [
    {
     "data": {
      "text/plain": [
       "array([ 2, 75, 88])"
      ]
     },
     "execution_count": 31,
     "metadata": {},
     "output_type": "execute_result"
    }
   ],
   "source": [
    "#slicing in multidimensional array\n",
    "arr = np.array([[1,2,3,4,5],[64,75,82,4,77],[54,88,1,23,44]])\n",
    "arr[:, 1]"
   ]
  },
  {
   "cell_type": "code",
   "execution_count": 25,
   "id": "5eeeb4da",
   "metadata": {},
   "outputs": [
    {
     "data": {
      "text/plain": [
       "array([[75, 82,  4, 77]])"
      ]
     },
     "execution_count": 25,
     "metadata": {},
     "output_type": "execute_result"
    }
   ],
   "source": [
    "arr[1:2,1:5] "
   ]
  },
  {
   "cell_type": "code",
   "execution_count": 26,
   "id": "88ed7721",
   "metadata": {},
   "outputs": [
    {
     "data": {
      "text/plain": [
       "array([[88,  1, 23, 44]])"
      ]
     },
     "execution_count": 26,
     "metadata": {},
     "output_type": "execute_result"
    }
   ],
   "source": [
    "arr[2:3,1:5]"
   ]
  },
  {
   "cell_type": "code",
   "execution_count": 27,
   "id": "61ea1231",
   "metadata": {},
   "outputs": [
    {
     "data": {
      "text/plain": [
       "array([54,  1])"
      ]
     },
     "execution_count": 27,
     "metadata": {},
     "output_type": "execute_result"
    }
   ],
   "source": [
    "arr[2,:4:2] #start:end:step_size"
   ]
  },
  {
   "cell_type": "code",
   "execution_count": 28,
   "id": "aeb0558f",
   "metadata": {},
   "outputs": [
    {
     "data": {
      "text/plain": [
       "array([88,  1, 23])"
      ]
     },
     "execution_count": 28,
     "metadata": {},
     "output_type": "execute_result"
    }
   ],
   "source": [
    "arr[2,1:4:1]"
   ]
  },
  {
   "cell_type": "code",
   "execution_count": 29,
   "id": "c7e191c9",
   "metadata": {},
   "outputs": [
    {
     "data": {
      "text/plain": [
       "array([77])"
      ]
     },
     "execution_count": 29,
     "metadata": {},
     "output_type": "execute_result"
    }
   ],
   "source": [
    "arr[1,4:5]"
   ]
  },
  {
   "cell_type": "code",
   "execution_count": 30,
   "id": "a6edaebd",
   "metadata": {},
   "outputs": [
    {
     "data": {
      "text/plain": [
       "array([[ 1,  2,  3,  4,  5],\n",
       "       [64, 75, 82,  4, 77],\n",
       "       [54, 88,  1, 23, 44]])"
      ]
     },
     "execution_count": 30,
     "metadata": {},
     "output_type": "execute_result"
    }
   ],
   "source": [
    "arr"
   ]
  },
  {
   "cell_type": "code",
   "execution_count": 31,
   "id": "d3154417",
   "metadata": {},
   "outputs": [
    {
     "name": "stdout",
     "output_type": "stream",
     "text": [
      "[54. 88.  1. 23. 44.]\n",
      "[88. 23. 44.]\n"
     ]
    }
   ],
   "source": [
    " #indexing using array:\n",
    "arr = np.array([\n",
    "    [1, 2, 3, 4, 5],\n",
    "    [64, 75, 82, 4, np.nan],\n",
    "    [54, 88, 1, 23, 44]\n",
    "])\n",
    "\n",
    "# Selecting the third row (index 2)\n",
    "row_index = 2\n",
    "selected_row = arr[row_index]\n",
    "print(selected_row)\n",
    "\n",
    "# Selecting specific columns (e.g., columns at indices 1, 3, and 4)\n",
    "column_indices = np.array([1, 3, 4])\n",
    "sliced_array = selected_row[column_indices]\n",
    "\n",
    "print(sliced_array)  # Output: [88, 23, 44]"
   ]
  },
  {
   "cell_type": "code",
   "execution_count": 32,
   "id": "8b4d12fc",
   "metadata": {},
   "outputs": [
    {
     "data": {
      "text/plain": [
       "array([ 1,  5, 35, 23,  3,  6])"
      ]
     },
     "execution_count": 32,
     "metadata": {},
     "output_type": "execute_result"
    }
   ],
   "source": [
    "arr= np.array([1,5,35,23,66,3,773,6])\n",
    "a = arr<55\n",
    "arr[a]"
   ]
  },
  {
   "cell_type": "code",
   "execution_count": null,
   "id": "d2bdd904",
   "metadata": {},
   "outputs": [],
   "source": []
  },
  {
   "cell_type": "code",
   "execution_count": null,
   "id": "0c789736",
   "metadata": {},
   "outputs": [],
   "source": []
  }
 ],
 "metadata": {
  "kernelspec": {
   "display_name": "Python 3 (ipykernel)",
   "language": "python",
   "name": "python3"
  },
  "language_info": {
   "codemirror_mode": {
    "name": "ipython",
    "version": 3
   },
   "file_extension": ".py",
   "mimetype": "text/x-python",
   "name": "python",
   "nbconvert_exporter": "python",
   "pygments_lexer": "ipython3",
   "version": "3.11.7"
  }
 },
 "nbformat": 4,
 "nbformat_minor": 5
}

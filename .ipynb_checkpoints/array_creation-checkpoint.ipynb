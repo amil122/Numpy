{
 "cells": [
  {
   "cell_type": "markdown",
   "id": "663d3410",
   "metadata": {},
   "source": [
    "# Creating an array in NumPy"
   ]
  },
  {
   "cell_type": "code",
   "execution_count": 6,
   "id": "fe6bc6b8",
   "metadata": {},
   "outputs": [],
   "source": [
    "import numpy as np"
   ]
  },
  {
   "cell_type": "code",
   "execution_count": 8,
   "id": "5cee4962",
   "metadata": {},
   "outputs": [],
   "source": [
    "arr = np.array((1,2,3,4), dtype = 'float16')"
   ]
  },
  {
   "cell_type": "code",
   "execution_count": 9,
   "id": "aa09d96b",
   "metadata": {},
   "outputs": [
    {
     "data": {
      "text/plain": [
       "array([1., 2., 3., 4.], dtype=float16)"
      ]
     },
     "execution_count": 9,
     "metadata": {},
     "output_type": "execute_result"
    }
   ],
   "source": [
    "arr\n"
   ]
  },
  {
   "cell_type": "code",
   "execution_count": 10,
   "id": "6450ea7a",
   "metadata": {},
   "outputs": [],
   "source": [
    "arr = np.array([1,2,3,4], dtype = 'complex')"
   ]
  },
  {
   "cell_type": "code",
   "execution_count": 11,
   "id": "21e43c6b",
   "metadata": {},
   "outputs": [
    {
     "data": {
      "text/plain": [
       "array([1.+0.j, 2.+0.j, 3.+0.j, 4.+0.j])"
      ]
     },
     "execution_count": 11,
     "metadata": {},
     "output_type": "execute_result"
    }
   ],
   "source": [
    "arr"
   ]
  },
  {
   "cell_type": "code",
   "execution_count": 12,
   "id": "18147c2e",
   "metadata": {},
   "outputs": [
    {
     "data": {
      "text/plain": [
       "array([0., 0., 0., 0.])"
      ]
     },
     "execution_count": 12,
     "metadata": {},
     "output_type": "execute_result"
    }
   ],
   "source": [
    "# to fetch only the imaginary part then we can use the imag attribute\n",
    "arr.imag"
   ]
  },
  {
   "cell_type": "code",
   "execution_count": 13,
   "id": "641cff42",
   "metadata": {},
   "outputs": [
    {
     "data": {
      "text/plain": [
       "array([1., 2., 3., 4.])"
      ]
     },
     "execution_count": 13,
     "metadata": {},
     "output_type": "execute_result"
    }
   ],
   "source": [
    "# to fetch only the real part then we can use real atrribute\n",
    "arr.real"
   ]
  },
  {
   "cell_type": "code",
   "execution_count": 14,
   "id": "2af38cb3",
   "metadata": {},
   "outputs": [],
   "source": [
    "# if you want to change the real part then \n",
    "arr.real = np.array([4,5,6,7])"
   ]
  },
  {
   "cell_type": "code",
   "execution_count": 15,
   "id": "c1dab860",
   "metadata": {},
   "outputs": [
    {
     "data": {
      "text/plain": [
       "array([4.+0.j, 5.+0.j, 6.+0.j, 7.+0.j])"
      ]
     },
     "execution_count": 15,
     "metadata": {},
     "output_type": "execute_result"
    }
   ],
   "source": [
    "arr\n"
   ]
  },
  {
   "cell_type": "code",
   "execution_count": 16,
   "id": "872adb65",
   "metadata": {
    "scrolled": true
   },
   "outputs": [
    {
     "data": {
      "text/plain": [
       "array([ True,  True,  True, False,  True, False])"
      ]
     },
     "execution_count": 16,
     "metadata": {},
     "output_type": "execute_result"
    }
   ],
   "source": [
    "# array creating with boolean values then\n",
    "arr = np.array([1,2,4,0,2,0],dtype = 'bool')\n",
    "arr"
   ]
  },
  {
   "cell_type": "code",
   "execution_count": 43,
   "id": "3be0b57c",
   "metadata": {},
   "outputs": [],
   "source": [
    "# creating an array with zeroes with 4 dimension\n",
    "arr = np.zeros(4)"
   ]
  },
  {
   "cell_type": "code",
   "execution_count": 44,
   "id": "48591f4a",
   "metadata": {},
   "outputs": [
    {
     "data": {
      "text/plain": [
       "array([0., 0., 0., 0.])"
      ]
     },
     "execution_count": 44,
     "metadata": {},
     "output_type": "execute_result"
    }
   ],
   "source": [
    "arr"
   ]
  },
  {
   "cell_type": "code",
   "execution_count": 21,
   "id": "b860e4e4",
   "metadata": {},
   "outputs": [
    {
     "data": {
      "text/plain": [
       "array([[0., 0., 0.],\n",
       "       [0., 0., 0.]])"
      ]
     },
     "execution_count": 21,
     "metadata": {},
     "output_type": "execute_result"
    }
   ],
   "source": [
    "arr = np.zeros((2,3))\n",
    "arr"
   ]
  },
  {
   "cell_type": "code",
   "execution_count": 23,
   "id": "de87b107",
   "metadata": {},
   "outputs": [
    {
     "data": {
      "text/plain": [
       "array([[[0., 0., 0., 0., 0., 0., 0., 0., 0.],\n",
       "        [0., 0., 0., 0., 0., 0., 0., 0., 0.],\n",
       "        [0., 0., 0., 0., 0., 0., 0., 0., 0.]],\n",
       "\n",
       "       [[0., 0., 0., 0., 0., 0., 0., 0., 0.],\n",
       "        [0., 0., 0., 0., 0., 0., 0., 0., 0.],\n",
       "        [0., 0., 0., 0., 0., 0., 0., 0., 0.]]])"
      ]
     },
     "execution_count": 23,
     "metadata": {},
     "output_type": "execute_result"
    }
   ],
   "source": [
    "arr = np.zeros((2,3,9))\n",
    "arr"
   ]
  },
  {
   "cell_type": "code",
   "execution_count": 24,
   "id": "64f9cebe",
   "metadata": {},
   "outputs": [
    {
     "data": {
      "text/plain": [
       "3"
      ]
     },
     "execution_count": 24,
     "metadata": {},
     "output_type": "execute_result"
    }
   ],
   "source": [
    "arr.ndim"
   ]
  },
  {
   "cell_type": "code",
   "execution_count": 25,
   "id": "42bd6b77",
   "metadata": {},
   "outputs": [
    {
     "data": {
      "text/plain": [
       "(2, 3, 9)"
      ]
     },
     "execution_count": 25,
     "metadata": {},
     "output_type": "execute_result"
    }
   ],
   "source": [
    " arr.shape"
   ]
  },
  {
   "cell_type": "code",
   "execution_count": 27,
   "id": "4afd7c13",
   "metadata": {},
   "outputs": [
    {
     "data": {
      "text/plain": [
       "array([[1., 1., 1., 1.],\n",
       "       [1., 1., 1., 1.],\n",
       "       [1., 1., 1., 1.]])"
      ]
     },
     "execution_count": 27,
     "metadata": {},
     "output_type": "execute_result"
    }
   ],
   "source": [
    "# creating an array with one\n",
    "arr = np.ones((3,4))\n",
    "arr"
   ]
  },
  {
   "cell_type": "code",
   "execution_count": 28,
   "id": "275c4fcb",
   "metadata": {},
   "outputs": [
    {
     "data": {
      "text/plain": [
       "array([[1, 1, 1],\n",
       "       [1, 1, 1]], dtype=int16)"
      ]
     },
     "execution_count": 28,
     "metadata": {},
     "output_type": "execute_result"
    }
   ],
   "source": [
    "arr =np.ones((2,3),dtype = 'int16')\n",
    "arr"
   ]
  },
  {
   "cell_type": "code",
   "execution_count": 34,
   "id": "7011c83e",
   "metadata": {},
   "outputs": [
    {
     "data": {
      "text/plain": [
       "array([[0., 0., 0.],\n",
       "       [0., 0., 0.]])"
      ]
     },
     "execution_count": 34,
     "metadata": {},
     "output_type": "execute_result"
    }
   ],
   "source": [
    "# np.empty(): Create an uninitialized array.\n",
    "arr = np.empty((2,3))\n",
    "arr"
   ]
  },
  {
   "cell_type": "code",
   "execution_count": 36,
   "id": "0fdded84",
   "metadata": {},
   "outputs": [
    {
     "data": {
      "text/plain": [
       "array([[99, 99, 99, 99],\n",
       "       [99, 99, 99, 99]], dtype=int64)"
      ]
     },
     "execution_count": 36,
     "metadata": {},
     "output_type": "execute_result"
    }
   ],
   "source": [
    "# np.full(): Create an array filled with a specified value.\n",
    "arr = np.full((2,4),99,dtype = 'int64')\n",
    "arr"
   ]
  },
  {
   "cell_type": "code",
   "execution_count": 38,
   "id": "39810ece",
   "metadata": {},
   "outputs": [
    {
     "data": {
      "text/plain": [
       "array([[101, 101, 101, 101],\n",
       "       [101, 101, 101, 101]])"
      ]
     },
     "execution_count": 38,
     "metadata": {},
     "output_type": "execute_result"
    }
   ],
   "source": [
    "#np.full_like is a NumPy function that creates a new array with the same shape and data type as a given array, filled with a specified valu\n",
    "a = np.array([[1,2,3,4],[5,6,7,8]])\n",
    "arr = np.full_like(a,101)\n",
    "arr"
   ]
  },
  {
   "cell_type": "code",
   "execution_count": 39,
   "id": "e650d269",
   "metadata": {},
   "outputs": [
    {
     "data": {
      "text/plain": [
       "array([[0, 0, 0, 0],\n",
       "       [0, 0, 0, 0]])"
      ]
     },
     "execution_count": 39,
     "metadata": {},
     "output_type": "execute_result"
    }
   ],
   "source": [
    "arr = np.zeros_like(a)\n",
    "arr"
   ]
  },
  {
   "cell_type": "code",
   "execution_count": 40,
   "id": "07c29e1e",
   "metadata": {},
   "outputs": [
    {
     "data": {
      "text/plain": [
       "array([[0.55067276, 0.16185412, 0.12914297, 0.83295454],\n",
       "       [0.61126078, 0.88848381, 0.1104029 , 0.37540523],\n",
       "       [0.44917026, 0.55603635, 0.7986227 , 0.68355332]])"
      ]
     },
     "execution_count": 40,
     "metadata": {},
     "output_type": "execute_result"
    }
   ],
   "source": [
    " # using random module genarating random numbers\n",
    "np.random.rand(3,4)\n"
   ]
  },
  {
   "cell_type": "code",
   "execution_count": 42,
   "id": "9597751a",
   "metadata": {},
   "outputs": [
    {
     "data": {
      "text/plain": [
       "array([[ 0, -3,  2, -2],\n",
       "       [ 1,  0,  4, -2],\n",
       "       [ 1,  6,  6,  5]])"
      ]
     },
     "execution_count": 42,
     "metadata": {},
     "output_type": "execute_result"
    }
   ],
   "source": [
    "# using random module with random integer variable(-3,7) indicates from which number to which number and (3,4) indicates the shape\n",
    "np.random.randint(-3,7,(3,4))"
   ]
  },
  {
   "cell_type": "code",
   "execution_count": 45,
   "id": "cf44896c",
   "metadata": {},
   "outputs": [
    {
     "data": {
      "text/plain": [
       "array([-0.09354697,  0.91627325,  1.48501207,  1.88337715, -0.92227972,\n",
       "        0.34454099])"
      ]
     },
     "execution_count": 45,
     "metadata": {},
     "output_type": "execute_result"
    }
   ],
   "source": [
    "#np.random.randn(): Generate random numbers from a normal distribution.\n",
    "random_numbers = np.random.randn(6)\n",
    "random_numbers"
   ]
  },
  {
   "cell_type": "code",
   "execution_count": 47,
   "id": "96d62b98",
   "metadata": {},
   "outputs": [
    {
     "data": {
      "text/plain": [
       "array([[1., 0., 0., 0.],\n",
       "       [0., 1., 0., 0.],\n",
       "       [0., 0., 1., 0.],\n",
       "       [0., 0., 0., 1.]])"
      ]
     },
     "execution_count": 47,
     "metadata": {},
     "output_type": "execute_result"
    }
   ],
   "source": [
    "# creating a identity matrix \n",
    "np.identity(4)"
   ]
  },
  {
   "cell_type": "code",
   "execution_count": 49,
   "id": "8c222aba",
   "metadata": {},
   "outputs": [
    {
     "data": {
      "text/plain": [
       "array([0, 1, 2, 3, 4, 5, 6, 7])"
      ]
     },
     "execution_count": 49,
     "metadata": {},
     "output_type": "execute_result"
    }
   ],
   "source": [
    "# range function from python like that it will work the parameters are like in the range function\n",
    "np.arange(8)"
   ]
  },
  {
   "cell_type": "code",
   "execution_count": 50,
   "id": "d6576497",
   "metadata": {
    "scrolled": true
   },
   "outputs": [
    {
     "data": {
      "text/plain": [
       "array([1, 3, 5, 7])"
      ]
     },
     "execution_count": 50,
     "metadata": {},
     "output_type": "execute_result"
    }
   ],
   "source": [
    "np.arange(1,8,2)"
   ]
  },
  {
   "cell_type": "code",
   "execution_count": 52,
   "id": "e994def3",
   "metadata": {},
   "outputs": [
    {
     "data": {
      "text/plain": [
       "array([ 1.   ,  2.125,  3.25 ,  4.375,  5.5  ,  6.625,  7.75 ,  8.875,\n",
       "       10.   ])"
      ]
     },
     "execution_count": 52,
     "metadata": {},
     "output_type": "execute_result"
    }
   ],
   "source": [
    "#np.linspace(): Create an array with evenly spaced values over a specified interval.\n",
    "np.linspace(1,10,9)"
   ]
  },
  {
   "cell_type": "code",
   "execution_count": 53,
   "id": "e9e68a47",
   "metadata": {},
   "outputs": [],
   "source": []
  },
  {
   "cell_type": "code",
   "execution_count": 55,
   "id": "30480d84",
   "metadata": {},
   "outputs": [
    {
     "data": {
      "text/plain": [
       "array([['mark1', 'mark2'],\n",
       "       ['42', '43'],\n",
       "       ['94', '63'],\n",
       "       ['33', '11']], dtype='<U5')"
      ]
     },
     "execution_count": 55,
     "metadata": {},
     "output_type": "execute_result"
    }
   ],
   "source": [
    "# loading the data from a text file and that's within the same directory\n",
    "marks = np.loadtxt('marks.txt',dtype ='str')\n",
    "marks"
   ]
  },
  {
   "cell_type": "code",
   "execution_count": 57,
   "id": "cb2e8b90",
   "metadata": {},
   "outputs": [
    {
     "data": {
      "text/plain": [
       "array([[42, 43],\n",
       "       [94, 63],\n",
       "       [33, 11]], dtype=int64)"
      ]
     },
     "execution_count": 57,
     "metadata": {},
     "output_type": "execute_result"
    }
   ],
   "source": [
    "#skip row is used to skip the rows\n",
    "marks = np.loadtxt('marks.txt',skiprows =1, dtype='int64')\n",
    "marks"
   ]
  },
  {
   "cell_type": "code",
   "execution_count": 62,
   "id": "2f13b0d9",
   "metadata": {},
   "outputs": [
    {
     "name": "stdout",
     "output_type": "stream",
     "text": [
      "[42 94 33]\n",
      "[43 63 11]\n"
     ]
    }
   ],
   "source": [
    "# to get column vise data then we use upack,  The unpack parameter controls whether the returned array is transposed (i.e., unpacked) or not.:\n",
    "mark1 , mark2 = np.loadtxt('marks.txt',skiprows=1, dtype ='int64' ,unpack = True)\n",
    "print(mark1)\n",
    "print(mark2)"
   ]
  },
  {
   "cell_type": "code",
   "execution_count": 63,
   "id": "48c9e828",
   "metadata": {},
   "outputs": [],
   "source": [
    "# save function used to save the files/ arrays in the format of .npy\n",
    "np.save('sample',np.array([1,2,3,4]))\n"
   ]
  },
  {
   "cell_type": "code",
   "execution_count": 64,
   "id": "12fe76c1",
   "metadata": {},
   "outputs": [
    {
     "data": {
      "text/plain": [
       "array([1, 2, 3, 4])"
      ]
     },
     "execution_count": 64,
     "metadata": {},
     "output_type": "execute_result"
    }
   ],
   "source": [
    "np.load('sample.npy')"
   ]
  },
  {
   "cell_type": "code",
   "execution_count": 73,
   "id": "e79e5121",
   "metadata": {},
   "outputs": [
    {
     "data": {
      "text/plain": [
       "array([[0, 1],\n",
       "       [1, 2]], dtype=int64)"
      ]
     },
     "execution_count": 73,
     "metadata": {},
     "output_type": "execute_result"
    }
   ],
   "source": [
    "# creating a  array using functions and here we can give the shape of the array\n",
    "\n",
    "np.fromfunction(lambda i,j : i+ j,(2,2),dtype='int64')"
   ]
  },
  {
   "cell_type": "code",
   "execution_count": 75,
   "id": "7861e930",
   "metadata": {},
   "outputs": [
    {
     "data": {
      "text/plain": [
       "array([[0., 0., 0., 0.],\n",
       "       [0., 0., 0., 0.]])"
      ]
     },
     "execution_count": 75,
     "metadata": {},
     "output_type": "execute_result"
    }
   ],
   "source": [
    "existing_arr = np.zeros((2,4))\n",
    "existing_arr"
   ]
  },
  {
   "cell_type": "code",
   "execution_count": 77,
   "id": "d026fd9d",
   "metadata": {},
   "outputs": [
    {
     "data": {
      "text/plain": [
       "array([[0, 1, 2, 3],\n",
       "       [1, 2, 3, 4]], dtype=int64)"
      ]
     },
     "execution_count": 77,
     "metadata": {},
     "output_type": "execute_result"
    }
   ],
   "source": [
    "# this is using existing array \n",
    "existing_arr = np.ones((2,4))\n",
    "np.fromfunction(lambda i,j : i+j, existing_arr.shape, dtype='int64')"
   ]
  },
  {
   "cell_type": "code",
   "execution_count": 82,
   "id": "0f6d51ff",
   "metadata": {},
   "outputs": [
    {
     "name": "stdout",
     "output_type": "stream",
     "text": [
      "Custom Matrix:\n",
      "[[1 2 3]\n",
      " [2 4 6]\n",
      " [3 6 9]]\n"
     ]
    }
   ],
   "source": [
    "import numpy as np\n",
    "\n",
    "# Custom function to calculate values based on row and column indices\n",
    "def custom_func(i, j):\n",
    "    return (i + 1) * (j + 1)\n",
    "\n",
    "# Create a 3x3 matrix using np.fromfunction with the custom function\n",
    "custom_matrix = np.fromfunction(custom_func, (3, 3), dtype=int)\n",
    "\n",
    "print(\"Custom Matrix:\")\n",
    "print(custom_matrix)\n"
   ]
  },
  {
   "cell_type": "code",
   "execution_count": 83,
   "id": "755ce5f2",
   "metadata": {},
   "outputs": [
    {
     "name": "stdout",
     "output_type": "stream",
     "text": [
      "Identity Matrix:\n",
      "[[ True False False False False]\n",
      " [False  True False False False]\n",
      " [False False  True False False]\n",
      " [False False False  True False]\n",
      " [False False False False  True]]\n"
     ]
    }
   ],
   "source": [
    "identity_matrix = np.fromfunction(lambda i, j: i == j, (5, 5), dtype=int)\n",
    "\n",
    "print(\"Identity Matrix:\")\n",
    "print(identity_matrix)"
   ]
  },
  {
   "cell_type": "code",
   "execution_count": null,
   "id": "ab3a8905",
   "metadata": {},
   "outputs": [],
   "source": [
    "#np.array(): Create an array from a Python list or tuple.\n",
    "#np.zeros(): Create an array filled with zeros.\n",
    "#np.ones(): Create an array filled with ones.\n",
    "#np.empty(): Create an uninitialized array.\n",
    "#np.full(): Create an array filled with a specified value.\n",
    "#np.arange(): Create an array with evenly spaced values within a range.\n",
    "#np.linspace(): Create an array with evenly spaced values over a specified interval.\n",
    "#np.eye(): Create a 2-D array with ones on the diagonal and zeros elsewhere."
   ]
  }
 ],
 "metadata": {
  "kernelspec": {
   "display_name": "Python 3 (ipykernel)",
   "language": "python",
   "name": "python3"
  },
  "language_info": {
   "codemirror_mode": {
    "name": "ipython",
    "version": 3
   },
   "file_extension": ".py",
   "mimetype": "text/x-python",
   "name": "python",
   "nbconvert_exporter": "python",
   "pygments_lexer": "ipython3",
   "version": "3.11.7"
  }
 },
 "nbformat": 4,
 "nbformat_minor": 5
}

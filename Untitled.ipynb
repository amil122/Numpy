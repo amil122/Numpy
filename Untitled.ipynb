{
 "cells": [
  {
   "cell_type": "code",
   "execution_count": 2,
   "id": "5919821b",
   "metadata": {},
   "outputs": [],
   "source": [
    "import numpy as np"
   ]
  },
  {
   "cell_type": "code",
   "execution_count": 3,
   "id": "d2a9be9d",
   "metadata": {},
   "outputs": [],
   "source": [
    "arr1 = np.array([1,2,3,4,5,6], dtype = 'float16')"
   ]
  },
  {
   "cell_type": "code",
   "execution_count": 4,
   "id": "79da7b07",
   "metadata": {},
   "outputs": [
    {
     "data": {
      "text/plain": [
       "array([1., 2., 3., 4., 5., 6.], dtype=float16)"
      ]
     },
     "execution_count": 4,
     "metadata": {},
     "output_type": "execute_result"
    }
   ],
   "source": [
    "arr1"
   ]
  },
  {
   "cell_type": "code",
   "execution_count": 15,
   "id": "5ec65295",
   "metadata": {},
   "outputs": [
    {
     "data": {
      "text/plain": [
       "3.5"
      ]
     },
     "execution_count": 15,
     "metadata": {},
     "output_type": "execute_result"
    }
   ],
   "source": [
    "arr1.mean()"
   ]
  },
  {
   "cell_type": "code",
   "execution_count": 16,
   "id": "91ba67b0",
   "metadata": {},
   "outputs": [
    {
     "ename": "UFuncTypeError",
     "evalue": "ufunc 'matmul' did not contain a loop with signature matching types (dtype('<U4'), dtype('<U4')) -> None",
     "output_type": "error",
     "traceback": [
      "\u001b[1;31m---------------------------------------------------------------------------\u001b[0m",
      "\u001b[1;31mUFuncTypeError\u001b[0m                            Traceback (most recent call last)",
      "Cell \u001b[1;32mIn[16], line 1\u001b[0m\n\u001b[1;32m----> 1\u001b[0m np\u001b[38;5;241m.\u001b[39mmatmul(\u001b[38;5;124m'\u001b[39m\u001b[38;5;124marr1\u001b[39m\u001b[38;5;124m'\u001b[39m,\u001b[38;5;124m'\u001b[39m\u001b[38;5;124marr2\u001b[39m\u001b[38;5;124m'\u001b[39m)\n",
      "\u001b[1;31mUFuncTypeError\u001b[0m: ufunc 'matmul' did not contain a loop with signature matching types (dtype('<U4'), dtype('<U4')) -> None"
     ]
    }
   ],
   "source": [
    "np.matmul('arr1','arr2')"
   ]
  },
  {
   "cell_type": "code",
   "execution_count": 12,
   "id": "b015d98c",
   "metadata": {},
   "outputs": [],
   "source": [
    "arr2 = np.random.rand(1,6)"
   ]
  },
  {
   "cell_type": "code",
   "execution_count": 13,
   "id": "63a48a8b",
   "metadata": {},
   "outputs": [
    {
     "data": {
      "text/plain": [
       "array([[0.95805135, 0.01309908, 0.47413046, 0.94363703, 0.7055136 ,\n",
       "        0.41705673]])"
      ]
     },
     "execution_count": 13,
     "metadata": {},
     "output_type": "execute_result"
    }
   ],
   "source": [
    "arr2\n"
   ]
  },
  {
   "cell_type": "code",
   "execution_count": 30,
   "id": "748963dd",
   "metadata": {},
   "outputs": [
    {
     "data": {
      "text/plain": [
       "3.5"
      ]
     },
     "execution_count": 30,
     "metadata": {},
     "output_type": "execute_result"
    }
   ],
   "source": [
    "np.mean(arr1)"
   ]
  },
  {
   "cell_type": "markdown",
   "id": "9d122a1b",
   "metadata": {},
   "source": [
    "arr1.mean("
   ]
  },
  {
   "cell_type": "code",
   "execution_count": 31,
   "id": "a5e61570",
   "metadata": {},
   "outputs": [
    {
     "data": {
      "text/plain": [
       "3.5"
      ]
     },
     "execution_count": 31,
     "metadata": {},
     "output_type": "execute_result"
    }
   ],
   "source": [
    "arr1.mean()"
   ]
  },
  {
   "cell_type": "code",
   "execution_count": 17,
   "id": "aaad8a44",
   "metadata": {},
   "outputs": [
    {
     "data": {
      "text/plain": [
       "array([ 0,  1,  2,  3,  4,  5,  6,  7,  8,  9, 10, 11])"
      ]
     },
     "execution_count": 17,
     "metadata": {},
     "output_type": "execute_result"
    }
   ],
   "source": [
    "arr1 = np.arange(12)\n",
    "arr1"
   ]
  },
  {
   "cell_type": "code",
   "execution_count": 18,
   "id": "fa3f2d27",
   "metadata": {},
   "outputs": [
    {
     "name": "stdout",
     "output_type": "stream",
     "text": [
      "[[0. 0. 0.]\n",
      " [0. 0. 0.]\n",
      " [0. 0. 0.]]\n"
     ]
    }
   ],
   "source": [
    "array_empty = np.empty((3, 3))\n",
    "print(array_empty)\n"
   ]
  },
  {
   "cell_type": "code",
   "execution_count": 26,
   "id": "7a17ffe2",
   "metadata": {},
   "outputs": [],
   "source": [
    "arr1 = np.random.randint(0,12, size = (3,3,3,5,5))"
   ]
  },
  {
   "cell_type": "code",
   "execution_count": 27,
   "id": "dd2d8589",
   "metadata": {},
   "outputs": [
    {
     "data": {
      "text/plain": [
       "array([[[[[ 0,  3,  2,  4,  7],\n",
       "          [ 7,  6,  2,  4, 10],\n",
       "          [ 4,  7, 10,  3,  3],\n",
       "          [ 5,  2,  8,  6,  8],\n",
       "          [ 5, 11,  4,  4,  5]],\n",
       "\n",
       "         [[ 6,  1,  5,  6, 10],\n",
       "          [ 9, 10,  0,  3,  9],\n",
       "          [ 9, 11,  5,  7,  0],\n",
       "          [ 7, 10,  0,  3,  1],\n",
       "          [ 9,  5,  2, 10, 11]],\n",
       "\n",
       "         [[ 5,  5,  0,  2,  3],\n",
       "          [ 3,  9,  9,  5,  4],\n",
       "          [ 5,  8,  4,  0,  4],\n",
       "          [11, 10,  4, 11,  4],\n",
       "          [ 9,  4, 11,  1,  4]]],\n",
       "\n",
       "\n",
       "        [[[ 0,  8,  7,  3,  3],\n",
       "          [ 7,  0,  0, 10,  9],\n",
       "          [ 2,  4,  5, 11,  6],\n",
       "          [ 4,  9, 11,  9, 11],\n",
       "          [ 9,  8,  8,  6, 10]],\n",
       "\n",
       "         [[ 7,  3,  3,  1,  6],\n",
       "          [ 5,  6,  1,  1,  1],\n",
       "          [ 9,  2,  8,  4,  9],\n",
       "          [ 4,  8,  9,  1,  1],\n",
       "          [ 7,  3,  9, 11,  3]],\n",
       "\n",
       "         [[ 0,  9,  3,  2,  4],\n",
       "          [ 2,  4,  2,  7,  7],\n",
       "          [ 5,  9,  5,  6, 11],\n",
       "          [ 2,  1,  2, 10,  9],\n",
       "          [ 5,  8,  1,  3, 11]]],\n",
       "\n",
       "\n",
       "        [[[ 8,  4, 10,  5,  3],\n",
       "          [ 6,  8,  3,  1, 11],\n",
       "          [ 7,  9,  5, 10,  6],\n",
       "          [ 9, 10,  6, 10, 10],\n",
       "          [ 4,  2,  7, 11,  6]],\n",
       "\n",
       "         [[ 9,  4,  2,  5,  7],\n",
       "          [ 9,  9,  7,  9,  1],\n",
       "          [ 4,  0,  3,  8,  3],\n",
       "          [11, 11,  5, 11,  1],\n",
       "          [ 1,  0,  0, 10,  3]],\n",
       "\n",
       "         [[ 5,  4,  1, 10,  3],\n",
       "          [ 7,  7,  7,  9,  9],\n",
       "          [ 9,  2, 11, 11,  0],\n",
       "          [ 4, 11,  0,  6,  0],\n",
       "          [ 2,  8,  0,  4,  1]]]],\n",
       "\n",
       "\n",
       "\n",
       "       [[[[ 5,  4,  0,  3, 11],\n",
       "          [ 7, 10,  6,  8,  5],\n",
       "          [10,  8,  9,  7,  7],\n",
       "          [ 7, 10,  8,  0, 11],\n",
       "          [ 8,  8,  4, 11,  9]],\n",
       "\n",
       "         [[ 6,  5,  1,  5,  6],\n",
       "          [ 7,  2, 10,  4,  8],\n",
       "          [ 4,  8, 10,  3, 11],\n",
       "          [ 9,  6, 10,  1,  5],\n",
       "          [ 9,  1, 10,  8,  9]],\n",
       "\n",
       "         [[ 0,  1,  5,  0,  8],\n",
       "          [ 6,  7,  2,  5,  4],\n",
       "          [ 5,  6,  5,  4,  2],\n",
       "          [ 3,  5, 10,  0,  3],\n",
       "          [ 5,  8,  4,  6,  7]]],\n",
       "\n",
       "\n",
       "        [[[ 9, 10,  6,  9,  2],\n",
       "          [ 6,  3,  7,  8,  4],\n",
       "          [10,  8,  4, 10,  0],\n",
       "          [ 7,  9, 10,  4,  7],\n",
       "          [ 4, 10,  5,  5,  3]],\n",
       "\n",
       "         [[ 6,  5,  3,  8,  8],\n",
       "          [ 0,  9,  7,  9,  4],\n",
       "          [ 7,  0,  3,  3,  1],\n",
       "          [ 6,  7, 11,  0,  9],\n",
       "          [ 1,  4,  0,  2,  4]],\n",
       "\n",
       "         [[ 7,  4,  6, 11,  4],\n",
       "          [ 3,  3,  9,  2,  9],\n",
       "          [ 8,  7,  0,  6,  9],\n",
       "          [ 2,  7,  7,  2,  7],\n",
       "          [11, 11,  7,  0,  6]]],\n",
       "\n",
       "\n",
       "        [[[ 4, 11,  5,  7,  8],\n",
       "          [ 3,  6,  4,  6,  9],\n",
       "          [11,  7,  2,  2, 11],\n",
       "          [ 7,  5,  9, 11,  3],\n",
       "          [ 1,  2,  6, 10,  5]],\n",
       "\n",
       "         [[ 3,  1,  3,  5,  6],\n",
       "          [ 2, 11,  1,  7,  5],\n",
       "          [10,  5,  5,  2,  6],\n",
       "          [11,  7,  5,  9,  4],\n",
       "          [ 7,  6,  5, 10,  6]],\n",
       "\n",
       "         [[ 8,  2,  8,  3,  6],\n",
       "          [ 3,  3,  4,  6,  6],\n",
       "          [ 6,  9,  0, 10,  6],\n",
       "          [11,  4,  3, 11,  8],\n",
       "          [11, 10,  7, 11,  9]]]],\n",
       "\n",
       "\n",
       "\n",
       "       [[[[ 0,  6,  5,  5,  2],\n",
       "          [ 9,  2,  2,  4,  6],\n",
       "          [ 9,  4,  1,  5,  1],\n",
       "          [ 9,  7,  3, 10,  3],\n",
       "          [ 3,  1,  7,  0, 10]],\n",
       "\n",
       "         [[ 9, 11, 10,  1,  0],\n",
       "          [11,  5,  6,  5,  8],\n",
       "          [ 4,  6,  3,  7,  6],\n",
       "          [ 8,  9,  0,  6,  7],\n",
       "          [10,  6,  8,  5,  7]],\n",
       "\n",
       "         [[ 5,  6,  9,  8,  4],\n",
       "          [ 7,  6,  2,  3,  6],\n",
       "          [ 8,  0,  3,  0,  6],\n",
       "          [ 7,  3,  8, 11,  7],\n",
       "          [ 8,  1,  0, 10, 11]]],\n",
       "\n",
       "\n",
       "        [[[ 0,  3,  5,  8,  1],\n",
       "          [ 1,  4,  6,  5,  6],\n",
       "          [ 4,  0,  5,  6,  1],\n",
       "          [ 6,  4,  2,  9,  5],\n",
       "          [10,  9,  3,  8,  8]],\n",
       "\n",
       "         [[ 4, 11, 11,  5,  1],\n",
       "          [ 1,  3,  5,  8,  0],\n",
       "          [ 2,  7,  7,  2,  8],\n",
       "          [ 1,  1,  3, 10,  7],\n",
       "          [ 7, 11, 10,  4,  1]],\n",
       "\n",
       "         [[11, 11,  2,  3, 10],\n",
       "          [11,  8,  1, 10,  5],\n",
       "          [ 4,  6,  2,  0,  5],\n",
       "          [ 5,  3,  2,  6,  5],\n",
       "          [ 3,  8,  2,  9,  8]]],\n",
       "\n",
       "\n",
       "        [[[ 9,  0,  1,  5,  9],\n",
       "          [ 1,  0,  9,  5,  9],\n",
       "          [ 5,  9, 10,  5,  4],\n",
       "          [ 8,  0,  4,  2,  1],\n",
       "          [11,  5,  8, 10,  1]],\n",
       "\n",
       "         [[ 8, 10,  6, 10,  7],\n",
       "          [ 1,  6,  2,  4, 11],\n",
       "          [ 4, 11,  1, 10,  2],\n",
       "          [11,  4,  2, 11,  3],\n",
       "          [ 5, 11,  8,  4,  0]],\n",
       "\n",
       "         [[ 4,  6,  8,  6,  2],\n",
       "          [10,  3,  4,  0, 11],\n",
       "          [ 0,  5,  1,  4,  2],\n",
       "          [11,  8, 11,  9,  7],\n",
       "          [ 6,  5,  0, 10, 11]]]]])"
      ]
     },
     "execution_count": 27,
     "metadata": {},
     "output_type": "execute_result"
    }
   ],
   "source": [
    "arr1\n"
   ]
  },
  {
   "cell_type": "code",
   "execution_count": 28,
   "id": "f8e27ba3",
   "metadata": {},
   "outputs": [
    {
     "data": {
      "text/plain": [
       "5"
      ]
     },
     "execution_count": 28,
     "metadata": {},
     "output_type": "execute_result"
    }
   ],
   "source": [
    "arr1.ndim"
   ]
  },
  {
   "cell_type": "code",
   "execution_count": 50,
   "id": "9d98eb25",
   "metadata": {},
   "outputs": [
    {
     "data": {
      "text/plain": [
       "array([[0., 0., 0.],\n",
       "       [0., 0., 0.],\n",
       "       [0., 0., 0.]])"
      ]
     },
     "execution_count": 50,
     "metadata": {},
     "output_type": "execute_result"
    }
   ],
   "source": [
    "arr1 = np.zeros((3,3))\n",
    "arr1"
   ]
  },
  {
   "cell_type": "code",
   "execution_count": 52,
   "id": "f6b0b9a0",
   "metadata": {},
   "outputs": [],
   "source": [
    "arr2 = np.zeros_like(arr1)"
   ]
  },
  {
   "cell_type": "code",
   "execution_count": 53,
   "id": "4a18d6e2",
   "metadata": {},
   "outputs": [
    {
     "data": {
      "text/plain": [
       "array([[0., 0., 0.],\n",
       "       [0., 0., 0.],\n",
       "       [0., 0., 0.]])"
      ]
     },
     "execution_count": 53,
     "metadata": {},
     "output_type": "execute_result"
    }
   ],
   "source": [
    "arr2"
   ]
  },
  {
   "cell_type": "code",
   "execution_count": 55,
   "id": "5d585c54",
   "metadata": {},
   "outputs": [],
   "source": [
    "arr1 = np.ones((3,3))"
   ]
  },
  {
   "cell_type": "code",
   "execution_count": 56,
   "id": "37c7964b",
   "metadata": {},
   "outputs": [
    {
     "data": {
      "text/plain": [
       "array([[1., 1., 1.],\n",
       "       [1., 1., 1.],\n",
       "       [1., 1., 1.]])"
      ]
     },
     "execution_count": 56,
     "metadata": {},
     "output_type": "execute_result"
    }
   ],
   "source": [
    "arr1"
   ]
  },
  {
   "cell_type": "code",
   "execution_count": 57,
   "id": "a6296c7f",
   "metadata": {},
   "outputs": [],
   "source": [
    "arr2 = np.empty((3,3))"
   ]
  },
  {
   "cell_type": "code",
   "execution_count": 58,
   "id": "9207a144",
   "metadata": {},
   "outputs": [
    {
     "data": {
      "text/plain": [
       "array([[1., 1., 1.],\n",
       "       [1., 1., 1.],\n",
       "       [1., 1., 1.]])"
      ]
     },
     "execution_count": 58,
     "metadata": {},
     "output_type": "execute_result"
    }
   ],
   "source": [
    "arr2"
   ]
  },
  {
   "cell_type": "code",
   "execution_count": 60,
   "id": "90663294",
   "metadata": {},
   "outputs": [],
   "source": [
    "arr1 = np.full((3,3), 10)"
   ]
  },
  {
   "cell_type": "code",
   "execution_count": 61,
   "id": "bb7bac6a",
   "metadata": {},
   "outputs": [
    {
     "data": {
      "text/plain": [
       "array([[10, 10, 10],\n",
       "       [10, 10, 10],\n",
       "       [10, 10, 10]])"
      ]
     },
     "execution_count": 61,
     "metadata": {},
     "output_type": "execute_result"
    }
   ],
   "source": [
    "arr1"
   ]
  },
  {
   "cell_type": "code",
   "execution_count": 62,
   "id": "decaba0f",
   "metadata": {},
   "outputs": [
    {
     "data": {
      "text/plain": [
       "array([[30., 30., 30.],\n",
       "       [30., 30., 30.],\n",
       "       [30., 30., 30.]])"
      ]
     },
     "execution_count": 62,
     "metadata": {},
     "output_type": "execute_result"
    }
   ],
   "source": [
    "np.dot(arr1,arr2)"
   ]
  },
  {
   "cell_type": "code",
   "execution_count": 63,
   "id": "ab408ac5",
   "metadata": {},
   "outputs": [
    {
     "data": {
      "text/plain": [
       "array([[1., 1., 1.],\n",
       "       [1., 1., 1.],\n",
       "       [1., 1., 1.]])"
      ]
     },
     "execution_count": 63,
     "metadata": {},
     "output_type": "execute_result"
    }
   ],
   "source": [
    "arr2"
   ]
  },
  {
   "cell_type": "code",
   "execution_count": 64,
   "id": "02b5b4a2",
   "metadata": {},
   "outputs": [
    {
     "data": {
      "text/plain": [
       "array([[10, 10, 10],\n",
       "       [10, 10, 10],\n",
       "       [10, 10, 10]])"
      ]
     },
     "execution_count": 64,
     "metadata": {},
     "output_type": "execute_result"
    }
   ],
   "source": [
    "arr1"
   ]
  },
  {
   "cell_type": "code",
   "execution_count": 30,
   "id": "98026748",
   "metadata": {},
   "outputs": [],
   "source": [
    "arr1 = np.arange(0,15,2)"
   ]
  },
  {
   "cell_type": "code",
   "execution_count": 31,
   "id": "d34ac782",
   "metadata": {},
   "outputs": [
    {
     "data": {
      "text/plain": [
       "array([ 0,  2,  4,  6,  8, 10, 12, 14])"
      ]
     },
     "execution_count": 31,
     "metadata": {},
     "output_type": "execute_result"
    }
   ],
   "source": [
    "arr1"
   ]
  },
  {
   "cell_type": "code",
   "execution_count": 39,
   "id": "ec78207a",
   "metadata": {},
   "outputs": [],
   "source": [
    "arr2 = arr1.reshape((4,2))"
   ]
  },
  {
   "cell_type": "code",
   "execution_count": 40,
   "id": "2d41944e",
   "metadata": {},
   "outputs": [
    {
     "data": {
      "text/plain": [
       "array([[ 0,  2],\n",
       "       [ 4,  6],\n",
       "       [ 8, 10],\n",
       "       [12, 14]])"
      ]
     },
     "execution_count": 40,
     "metadata": {},
     "output_type": "execute_result"
    }
   ],
   "source": [
    "arr2"
   ]
  },
  {
   "cell_type": "code",
   "execution_count": 41,
   "id": "48790581",
   "metadata": {},
   "outputs": [],
   "source": [
    "list1 = [1,2,3,4,5,6,7,8,9]\n",
    "arr = np.array(list1)"
   ]
  },
  {
   "cell_type": "code",
   "execution_count": 42,
   "id": "3964b4d4",
   "metadata": {},
   "outputs": [
    {
     "data": {
      "text/plain": [
       "numpy.ndarray"
      ]
     },
     "execution_count": 42,
     "metadata": {},
     "output_type": "execute_result"
    }
   ],
   "source": [
    "type(arr\n",
    "    )"
   ]
  },
  {
   "cell_type": "code",
   "execution_count": null,
   "id": "9c8c5e3b",
   "metadata": {},
   "outputs": [],
   "source": [
    "df = pd.read_csv()"
   ]
  }
 ],
 "metadata": {
  "kernelspec": {
   "display_name": "Python 3 (ipykernel)",
   "language": "python",
   "name": "python3"
  },
  "language_info": {
   "codemirror_mode": {
    "name": "ipython",
    "version": 3
   },
   "file_extension": ".py",
   "mimetype": "text/x-python",
   "name": "python",
   "nbconvert_exporter": "python",
   "pygments_lexer": "ipython3",
   "version": "3.11.7"
  }
 },
 "nbformat": 4,
 "nbformat_minor": 5
}

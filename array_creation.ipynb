{
 "cells": [
  {
   "cell_type": "markdown",
   "id": "663d3410",
   "metadata": {},
   "source": [
    "# Creating an array in NumPy"
   ]
  },
  {
   "cell_type": "code",
   "execution_count": null,
   "id": "ad96e4a2",
   "metadata": {},
   "outputs": [],
   "source": []
  },
  {
   "cell_type": "code",
   "execution_count": 1,
   "id": "fe6bc6b8",
   "metadata": {},
   "outputs": [],
   "source": [
    "import numpy as np"
   ]
  },
  {
   "cell_type": "code",
   "execution_count": 2,
   "id": "5cee4962",
   "metadata": {},
   "outputs": [],
   "source": [
    "arr = np.array((1,2,3,4), dtype = 'float16')"
   ]
  },
  {
   "cell_type": "code",
   "execution_count": 3,
   "id": "aa09d96b",
   "metadata": {},
   "outputs": [
    {
     "data": {
      "text/plain": [
       "array([1., 2., 3., 4.], dtype=float16)"
      ]
     },
     "execution_count": 3,
     "metadata": {},
     "output_type": "execute_result"
    }
   ],
   "source": [
    "arr\n"
   ]
  },
  {
   "cell_type": "code",
   "execution_count": 4,
   "id": "6450ea7a",
   "metadata": {},
   "outputs": [],
   "source": [
    "arr = np.array([1,2,3,4], dtype = 'complex')"
   ]
  },
  {
   "cell_type": "code",
   "execution_count": 5,
   "id": "21e43c6b",
   "metadata": {},
   "outputs": [
    {
     "data": {
      "text/plain": [
       "array([1.+0.j, 2.+0.j, 3.+0.j, 4.+0.j])"
      ]
     },
     "execution_count": 5,
     "metadata": {},
     "output_type": "execute_result"
    }
   ],
   "source": [
    "arr"
   ]
  },
  {
   "cell_type": "code",
   "execution_count": 6,
   "id": "18147c2e",
   "metadata": {},
   "outputs": [
    {
     "data": {
      "text/plain": [
       "array([0., 0., 0., 0.])"
      ]
     },
     "execution_count": 6,
     "metadata": {},
     "output_type": "execute_result"
    }
   ],
   "source": [
    "# to fetch only the imaginary part then we can use the imag attribute\n",
    "arr.imag"
   ]
  },
  {
   "cell_type": "code",
   "execution_count": 7,
   "id": "641cff42",
   "metadata": {},
   "outputs": [
    {
     "data": {
      "text/plain": [
       "array([1., 2., 3., 4.])"
      ]
     },
     "execution_count": 7,
     "metadata": {},
     "output_type": "execute_result"
    }
   ],
   "source": [
    "# to fetch only the real part then we can use real atrribute\n",
    "arr.real"
   ]
  },
  {
   "cell_type": "code",
   "execution_count": 8,
   "id": "2af38cb3",
   "metadata": {},
   "outputs": [],
   "source": [
    "# if you want to change the real part then \n",
    "arr.real = np.array([4,5,6,7])"
   ]
  },
  {
   "cell_type": "code",
   "execution_count": 9,
   "id": "c1dab860",
   "metadata": {},
   "outputs": [
    {
     "data": {
      "text/plain": [
       "array([4.+0.j, 5.+0.j, 6.+0.j, 7.+0.j])"
      ]
     },
     "execution_count": 9,
     "metadata": {},
     "output_type": "execute_result"
    }
   ],
   "source": [
    "arr\n"
   ]
  },
  {
   "cell_type": "code",
   "execution_count": 10,
   "id": "872adb65",
   "metadata": {
    "scrolled": true
   },
   "outputs": [
    {
     "data": {
      "text/plain": [
       "array([ True,  True,  True, False,  True, False])"
      ]
     },
     "execution_count": 10,
     "metadata": {},
     "output_type": "execute_result"
    }
   ],
   "source": [
    "# array creating with boolean values then\n",
    "arr = np.array([1,2,4,0,2,0],dtype = 'bool')\n",
    "arr"
   ]
  },
  {
   "cell_type": "code",
   "execution_count": 14,
   "id": "3be0b57c",
   "metadata": {},
   "outputs": [],
   "source": [
    "# creating an array with zeroes with 4 dimension\n",
    "arr = np.zeros((2,2,3,5))"
   ]
  },
  {
   "cell_type": "code",
   "execution_count": 15,
   "id": "48591f4a",
   "metadata": {},
   "outputs": [
    {
     "data": {
      "text/plain": [
       "array([[[[0., 0., 0., 0., 0.],\n",
       "         [0., 0., 0., 0., 0.],\n",
       "         [0., 0., 0., 0., 0.]],\n",
       "\n",
       "        [[0., 0., 0., 0., 0.],\n",
       "         [0., 0., 0., 0., 0.],\n",
       "         [0., 0., 0., 0., 0.]]],\n",
       "\n",
       "\n",
       "       [[[0., 0., 0., 0., 0.],\n",
       "         [0., 0., 0., 0., 0.],\n",
       "         [0., 0., 0., 0., 0.]],\n",
       "\n",
       "        [[0., 0., 0., 0., 0.],\n",
       "         [0., 0., 0., 0., 0.],\n",
       "         [0., 0., 0., 0., 0.]]]])"
      ]
     },
     "execution_count": 15,
     "metadata": {},
     "output_type": "execute_result"
    }
   ],
   "source": [
    "arr"
   ]
  },
  {
   "cell_type": "code",
   "execution_count": 16,
   "id": "ec2aa38a",
   "metadata": {},
   "outputs": [
    {
     "data": {
      "text/plain": [
       "4"
      ]
     },
     "execution_count": 16,
     "metadata": {},
     "output_type": "execute_result"
    }
   ],
   "source": [
    "arr.ndim"
   ]
  },
  {
   "cell_type": "code",
   "execution_count": 17,
   "id": "b860e4e4",
   "metadata": {},
   "outputs": [
    {
     "data": {
      "text/plain": [
       "array([[0., 0., 0.],\n",
       "       [0., 0., 0.]])"
      ]
     },
     "execution_count": 17,
     "metadata": {},
     "output_type": "execute_result"
    }
   ],
   "source": [
    "arr = np.zeros((2,3))\n",
    "arr"
   ]
  },
  {
   "cell_type": "code",
   "execution_count": 18,
   "id": "de87b107",
   "metadata": {},
   "outputs": [
    {
     "data": {
      "text/plain": [
       "array([[[0., 0., 0., 0., 0., 0., 0., 0., 0.],\n",
       "        [0., 0., 0., 0., 0., 0., 0., 0., 0.],\n",
       "        [0., 0., 0., 0., 0., 0., 0., 0., 0.],\n",
       "        [0., 0., 0., 0., 0., 0., 0., 0., 0.]],\n",
       "\n",
       "       [[0., 0., 0., 0., 0., 0., 0., 0., 0.],\n",
       "        [0., 0., 0., 0., 0., 0., 0., 0., 0.],\n",
       "        [0., 0., 0., 0., 0., 0., 0., 0., 0.],\n",
       "        [0., 0., 0., 0., 0., 0., 0., 0., 0.]]])"
      ]
     },
     "execution_count": 18,
     "metadata": {},
     "output_type": "execute_result"
    }
   ],
   "source": [
    "arr = np.zeros((2,4,9))\n",
    "arr"
   ]
  },
  {
   "cell_type": "code",
   "execution_count": 19,
   "id": "64f9cebe",
   "metadata": {},
   "outputs": [
    {
     "data": {
      "text/plain": [
       "3"
      ]
     },
     "execution_count": 19,
     "metadata": {},
     "output_type": "execute_result"
    }
   ],
   "source": [
    "arr.ndim"
   ]
  },
  {
   "cell_type": "code",
   "execution_count": 20,
   "id": "42bd6b77",
   "metadata": {},
   "outputs": [
    {
     "data": {
      "text/plain": [
       "(2, 4, 9)"
      ]
     },
     "execution_count": 20,
     "metadata": {},
     "output_type": "execute_result"
    }
   ],
   "source": [
    " arr.shape"
   ]
  },
  {
   "cell_type": "code",
   "execution_count": 21,
   "id": "4afd7c13",
   "metadata": {},
   "outputs": [
    {
     "data": {
      "text/plain": [
       "array([[1., 1., 1., 1.],\n",
       "       [1., 1., 1., 1.],\n",
       "       [1., 1., 1., 1.]])"
      ]
     },
     "execution_count": 21,
     "metadata": {},
     "output_type": "execute_result"
    }
   ],
   "source": [
    "# creating an array with one\n",
    "arr = np.ones((3,4))\n",
    "arr"
   ]
  },
  {
   "cell_type": "code",
   "execution_count": 22,
   "id": "275c4fcb",
   "metadata": {},
   "outputs": [
    {
     "data": {
      "text/plain": [
       "array([[1, 1, 1],\n",
       "       [1, 1, 1]], dtype=int16)"
      ]
     },
     "execution_count": 22,
     "metadata": {},
     "output_type": "execute_result"
    }
   ],
   "source": [
    "arr =np.ones((2,3),dtype = 'int16')\n",
    "arr"
   ]
  },
  {
   "cell_type": "code",
   "execution_count": 23,
   "id": "7011c83e",
   "metadata": {},
   "outputs": [
    {
     "data": {
      "text/plain": [
       "array([[0., 0., 0.],\n",
       "       [0., 0., 0.]])"
      ]
     },
     "execution_count": 23,
     "metadata": {},
     "output_type": "execute_result"
    }
   ],
   "source": [
    "# np.empty(): Create an uninitialized array.\n",
    "arr = np.empty((2,3))\n",
    "arr"
   ]
  },
  {
   "cell_type": "code",
   "execution_count": 24,
   "id": "0fdded84",
   "metadata": {},
   "outputs": [
    {
     "data": {
      "text/plain": [
       "array([[99, 99, 99, 99],\n",
       "       [99, 99, 99, 99]], dtype=int64)"
      ]
     },
     "execution_count": 24,
     "metadata": {},
     "output_type": "execute_result"
    }
   ],
   "source": [
    "# np.full(): Create an array filled with a specified value.\n",
    "arr = np.full((2,4),99,dtype = 'int64')\n",
    "arr"
   ]
  },
  {
   "cell_type": "code",
   "execution_count": 28,
   "id": "39810ece",
   "metadata": {},
   "outputs": [
    {
     "data": {
      "text/plain": [
       "array([[101, 101, 101, 101],\n",
       "       [101, 101, 101, 101]])"
      ]
     },
     "execution_count": 28,
     "metadata": {},
     "output_type": "execute_result"
    }
   ],
   "source": [
    "#np.full_like is a NumPy function that creates a new array with the same shape and data type as a given array, filled with a specified valu\n",
    "a = np.array([[1,2,3,4],[5,6,7,8]])\n",
    "arr = np.full_like(a,101)\n",
    "arr"
   ]
  },
  {
   "cell_type": "code",
   "execution_count": 17,
   "id": "e650d269",
   "metadata": {},
   "outputs": [
    {
     "data": {
      "text/plain": [
       "array([[0, 0, 0, 0],\n",
       "       [0, 0, 0, 0]])"
      ]
     },
     "execution_count": 17,
     "metadata": {},
     "output_type": "execute_result"
    }
   ],
   "source": [
    "arr = np.zeros_like(a)\n",
    "arr"
   ]
  },
  {
   "cell_type": "code",
   "execution_count": 18,
   "id": "07c29e1e",
   "metadata": {},
   "outputs": [
    {
     "data": {
      "text/plain": [
       "array([[0.26863038, 0.74801952, 0.438882  , 0.22510667],\n",
       "       [0.64294325, 0.69782303, 0.92939789, 0.83276904],\n",
       "       [0.51184351, 0.6221696 , 0.47292619, 0.21944441]])"
      ]
     },
     "execution_count": 18,
     "metadata": {},
     "output_type": "execute_result"
    }
   ],
   "source": [
    " # using random module genarating random numbers\n",
    "np.random.rand(3,4)\n"
   ]
  },
  {
   "cell_type": "code",
   "execution_count": 32,
   "id": "9597751a",
   "metadata": {},
   "outputs": [
    {
     "data": {
      "text/plain": [
       "4"
      ]
     },
     "execution_count": 32,
     "metadata": {},
     "output_type": "execute_result"
    }
   ],
   "source": [
    "# using random module with random integer variable(-3,7) indicates from which number to which number and (3,4) indicates the shape\n",
    "a1= np.random.randint(-3,88,(3,4,3,4))\n",
    "a1.ndim"
   ]
  },
  {
   "cell_type": "code",
   "execution_count": 6,
   "id": "cf44896c",
   "metadata": {},
   "outputs": [
    {
     "data": {
      "text/plain": [
       "array([ 0.3156679 , -0.72342478,  1.53064115,  1.126847  , -1.67193172,\n",
       "       -1.36959917])"
      ]
     },
     "execution_count": 6,
     "metadata": {},
     "output_type": "execute_result"
    }
   ],
   "source": [
    "#np.random.randn(): Generate random numbers from a normal distribution.\n",
    "random_numbers = np.random.randn(6)\n",
    "random_numbers"
   ]
  },
  {
   "cell_type": "code",
   "execution_count": 7,
   "id": "96d62b98",
   "metadata": {},
   "outputs": [
    {
     "data": {
      "text/plain": [
       "array([[1., 0., 0., 0.],\n",
       "       [0., 1., 0., 0.],\n",
       "       [0., 0., 1., 0.],\n",
       "       [0., 0., 0., 1.]])"
      ]
     },
     "execution_count": 7,
     "metadata": {},
     "output_type": "execute_result"
    }
   ],
   "source": [
    "# creating a identity matrix \n",
    "np.identity(4)"
   ]
  },
  {
   "cell_type": "code",
   "execution_count": 8,
   "id": "8c222aba",
   "metadata": {},
   "outputs": [
    {
     "data": {
      "text/plain": [
       "array([0, 1, 2, 3, 4, 5, 6, 7])"
      ]
     },
     "execution_count": 8,
     "metadata": {},
     "output_type": "execute_result"
    }
   ],
   "source": [
    "# range function from python like that it will work the parameters are like in the range function\n",
    "np.arange(8)"
   ]
  },
  {
   "cell_type": "code",
   "execution_count": 9,
   "id": "d6576497",
   "metadata": {
    "scrolled": true
   },
   "outputs": [
    {
     "data": {
      "text/plain": [
       "array([1, 3, 5, 7])"
      ]
     },
     "execution_count": 9,
     "metadata": {},
     "output_type": "execute_result"
    }
   ],
   "source": [
    "np.arange(1,8,2)"
   ]
  },
  {
   "cell_type": "code",
   "execution_count": 19,
   "id": "e994def3",
   "metadata": {},
   "outputs": [
    {
     "data": {
      "text/plain": [
       "array([1., 2., 3., 4., 5.])"
      ]
     },
     "execution_count": 19,
     "metadata": {},
     "output_type": "execute_result"
    }
   ],
   "source": [
    "#np.linspace(): Create an array with evenly spaced values over a specified interval.\n",
    "np.linspace(1,5,5)"
   ]
  },
  {
   "cell_type": "code",
   "execution_count": 53,
   "id": "e9e68a47",
   "metadata": {},
   "outputs": [],
   "source": []
  },
  {
   "cell_type": "code",
   "execution_count": 11,
   "id": "30480d84",
   "metadata": {},
   "outputs": [
    {
     "data": {
      "text/plain": [
       "array([['mark1', 'mark2'],\n",
       "       ['42', '43'],\n",
       "       ['94', '63'],\n",
       "       ['33', '11']], dtype='<U5')"
      ]
     },
     "execution_count": 11,
     "metadata": {},
     "output_type": "execute_result"
    }
   ],
   "source": [
    "# loading the data from a text file and that's within the same directory\n",
    "marks = np.loadtxt('marks.txt',dtype ='str')\n",
    "marks"
   ]
  },
  {
   "cell_type": "code",
   "execution_count": 57,
   "id": "cb2e8b90",
   "metadata": {},
   "outputs": [
    {
     "data": {
      "text/plain": [
       "array([[42, 43],\n",
       "       [94, 63],\n",
       "       [33, 11]], dtype=int64)"
      ]
     },
     "execution_count": 57,
     "metadata": {},
     "output_type": "execute_result"
    }
   ],
   "source": [
    "#skip row is used to skip the rows\n",
    "marks = np.loadtxt('marks.txt',skiprows =1, dtype='int64')\n",
    "marks"
   ]
  },
  {
   "cell_type": "code",
   "execution_count": 62,
   "id": "2f13b0d9",
   "metadata": {},
   "outputs": [
    {
     "name": "stdout",
     "output_type": "stream",
     "text": [
      "[42 94 33]\n",
      "[43 63 11]\n"
     ]
    }
   ],
   "source": [
    "# to get column vise data then we use upack,  The unpack parameter controls whether the returned array is transposed (i.e., unpacked) or not.:\n",
    "mark1 , mark2 = np.loadtxt('marks.txt',skiprows=1, dtype ='int64' ,unpack = True)\n",
    "print(mark1)\n",
    "print(mark2)"
   ]
  },
  {
   "cell_type": "code",
   "execution_count": 63,
   "id": "48c9e828",
   "metadata": {},
   "outputs": [],
   "source": [
    "# save function used to save the files/ arrays in the format of .npy\n",
    "np.save('sample',np.array([1,2,3,4]))\n"
   ]
  },
  {
   "cell_type": "code",
   "execution_count": 64,
   "id": "12fe76c1",
   "metadata": {},
   "outputs": [
    {
     "data": {
      "text/plain": [
       "array([1, 2, 3, 4])"
      ]
     },
     "execution_count": 64,
     "metadata": {},
     "output_type": "execute_result"
    }
   ],
   "source": [
    "np.load('sample.npy')"
   ]
  },
  {
   "cell_type": "code",
   "execution_count": 36,
   "id": "e79e5121",
   "metadata": {},
   "outputs": [
    {
     "data": {
      "text/plain": [
       "array([[0, 1, 2],\n",
       "       [1, 2, 3],\n",
       "       [2, 3, 4]], dtype=int64)"
      ]
     },
     "execution_count": 36,
     "metadata": {},
     "output_type": "execute_result"
    }
   ],
   "source": [
    "# creating a  array using functions and here we can give the shape of the array\n",
    "\n",
    "np.fromfunction(lambda i,j : i+ j,(3,3),dtype='int64')"
   ]
  },
  {
   "cell_type": "code",
   "execution_count": 75,
   "id": "7861e930",
   "metadata": {},
   "outputs": [
    {
     "data": {
      "text/plain": [
       "array([[0., 0., 0., 0.],\n",
       "       [0., 0., 0., 0.]])"
      ]
     },
     "execution_count": 75,
     "metadata": {},
     "output_type": "execute_result"
    }
   ],
   "source": [
    "existing_arr = np.zeros((2,4))\n",
    "existing_arr"
   ]
  },
  {
   "cell_type": "code",
   "execution_count": 77,
   "id": "d026fd9d",
   "metadata": {},
   "outputs": [
    {
     "data": {
      "text/plain": [
       "array([[0, 1, 2, 3],\n",
       "       [1, 2, 3, 4]], dtype=int64)"
      ]
     },
     "execution_count": 77,
     "metadata": {},
     "output_type": "execute_result"
    }
   ],
   "source": [
    "# this is using existing array \n",
    "existing_arr = np.ones((2,4))\n",
    "np.fromfunction(lambda i,j : i+j, existing_arr.shape, dtype='int64')"
   ]
  },
  {
   "cell_type": "code",
   "execution_count": 82,
   "id": "0f6d51ff",
   "metadata": {},
   "outputs": [
    {
     "name": "stdout",
     "output_type": "stream",
     "text": [
      "Custom Matrix:\n",
      "[[1 2 3]\n",
      " [2 4 6]\n",
      " [3 6 9]]\n"
     ]
    }
   ],
   "source": [
    "import numpy as np\n",
    "\n",
    "# Custom function to calculate values based on row and column indices\n",
    "def custom_func(i, j):\n",
    "    return (i + 1) * (j + 1)\n",
    "\n",
    "# Create a 3x3 matrix using np.fromfunction with the custom function\n",
    "custom_matrix = np.fromfunction(custom_func, (3, 3), dtype=int)\n",
    "\n",
    "print(\"Custom Matrix:\")\n",
    "print(custom_matrix)\n"
   ]
  },
  {
   "cell_type": "code",
   "execution_count": 83,
   "id": "755ce5f2",
   "metadata": {},
   "outputs": [
    {
     "name": "stdout",
     "output_type": "stream",
     "text": [
      "Identity Matrix:\n",
      "[[ True False False False False]\n",
      " [False  True False False False]\n",
      " [False False  True False False]\n",
      " [False False False  True False]\n",
      " [False False False False  True]]\n"
     ]
    }
   ],
   "source": [
    "identity_matrix = np.fromfunction(lambda i, j: i == j, (5, 5), dtype=int)\n",
    "\n",
    "print(\"Identity Matrix:\")\n",
    "print(identity_matrix)"
   ]
  },
  {
   "cell_type": "code",
   "execution_count": null,
   "id": "ab3a8905",
   "metadata": {},
   "outputs": [],
   "source": [
    "#np.array(): Create an array from a Python list or tuple.\n",
    "#np.zeros(): Create an array filled with zeros.\n",
    "#np.ones(): Create an array filled with ones.\n",
    "#np.empty(): Create an uninitialized array.\n",
    "#np.full(): Create an array filled with a specified value.\n",
    "#np.arange(): Create an array with evenly spaced values within a range.\n",
    "#np.linspace(): Create an array with evenly spaced values over a specified interval.\n",
    "#np.eye(): Create a 2-D array with ones on the diagonal and zeros elsewhere."
   ]
  },
  {
   "cell_type": "code",
   "execution_count": 42,
   "id": "5fec01fb",
   "metadata": {},
   "outputs": [],
   "source": [
    "arr8 = np.random.randint(1,10,size =30).reshape(5,3,2)"
   ]
  },
  {
   "cell_type": "code",
   "execution_count": 43,
   "id": "1eb5eeb1",
   "metadata": {},
   "outputs": [
    {
     "data": {
      "text/plain": [
       "3"
      ]
     },
     "execution_count": 43,
     "metadata": {},
     "output_type": "execute_result"
    }
   ],
   "source": [
    "arr8.ndim"
   ]
  },
  {
   "cell_type": "code",
   "execution_count": 45,
   "id": "c40aba80",
   "metadata": {},
   "outputs": [
    {
     "data": {
      "text/plain": [
       "array([[[3, 5],\n",
       "        [7, 6],\n",
       "        [4, 4]],\n",
       "\n",
       "       [[8, 6],\n",
       "        [9, 2],\n",
       "        [6, 7]],\n",
       "\n",
       "       [[4, 3],\n",
       "        [9, 1],\n",
       "        [1, 1]],\n",
       "\n",
       "       [[8, 6],\n",
       "        [7, 6],\n",
       "        [8, 7]],\n",
       "\n",
       "       [[1, 6],\n",
       "        [9, 8],\n",
       "        [6, 5]]])"
      ]
     },
     "execution_count": 45,
     "metadata": {},
     "output_type": "execute_result"
    }
   ],
   "source": [
    "arr8"
   ]
  },
  {
   "cell_type": "code",
   "execution_count": null,
   "id": "0dd3fd13",
   "metadata": {},
   "outputs": [],
   "source": []
  }
 ],
 "metadata": {
  "kernelspec": {
   "display_name": "Python 3 (ipykernel)",
   "language": "python",
   "name": "python3"
  },
  "language_info": {
   "codemirror_mode": {
    "name": "ipython",
    "version": 3
   },
   "file_extension": ".py",
   "mimetype": "text/x-python",
   "name": "python",
   "nbconvert_exporter": "python",
   "pygments_lexer": "ipython3",
   "version": "3.11.7"
  }
 },
 "nbformat": 4,
 "nbformat_minor": 5
}

{
 "cells": [
  {
   "cell_type": "code",
   "execution_count": 2,
   "id": "8abadb5c",
   "metadata": {},
   "outputs": [],
   "source": [
    "import numpy as np"
   ]
  },
  {
   "cell_type": "code",
   "execution_count": 3,
   "id": "dea94962",
   "metadata": {},
   "outputs": [
    {
     "data": {
      "text/plain": [
       "array([[ 1,  2,  3,  4,  5],\n",
       "       [ 6,  7,  8,  9, 10]])"
      ]
     },
     "execution_count": 3,
     "metadata": {},
     "output_type": "execute_result"
    }
   ],
   "source": [
    "arr = np.array([[1,2,3,4,5],[6,7,8,9,10]])\n",
    "arr"
   ]
  },
  {
   "cell_type": "code",
   "execution_count": 4,
   "id": "7856f312",
   "metadata": {},
   "outputs": [
    {
     "data": {
      "text/plain": [
       "array([ 1,  2,  3,  4,  5,  6,  7,  8,  9, 10])"
      ]
     },
     "execution_count": 4,
     "metadata": {},
     "output_type": "execute_result"
    }
   ],
   "source": [
    "arr.shape\n",
    "arr.flatten()"
   ]
  },
  {
   "cell_type": "code",
   "execution_count": 5,
   "id": "223e6ab7",
   "metadata": {},
   "outputs": [
    {
     "data": {
      "text/plain": [
       "array([[ 1,  2],\n",
       "       [ 3,  4],\n",
       "       [ 5,  6],\n",
       "       [ 7,  8],\n",
       "       [ 9, 10]])"
      ]
     },
     "execution_count": 5,
     "metadata": {},
     "output_type": "execute_result"
    }
   ],
   "source": [
    "arr.reshape(5,2)"
   ]
  },
  {
   "cell_type": "code",
   "execution_count": 6,
   "id": "9274aa41",
   "metadata": {},
   "outputs": [
    {
     "data": {
      "text/plain": [
       "array([[ 1,  2],\n",
       "       [ 3,  4],\n",
       "       [ 5,  6],\n",
       "       [ 7,  8],\n",
       "       [ 9, 10]])"
      ]
     },
     "execution_count": 6,
     "metadata": {},
     "output_type": "execute_result"
    }
   ],
   "source": [
    "arr.reshape(5,2)"
   ]
  },
  {
   "cell_type": "code",
   "execution_count": 7,
   "id": "78938d52",
   "metadata": {},
   "outputs": [
    {
     "data": {
      "text/plain": [
       "(2, 5)"
      ]
     },
     "execution_count": 7,
     "metadata": {},
     "output_type": "execute_result"
    }
   ],
   "source": [
    "arr.shape"
   ]
  },
  {
   "cell_type": "code",
   "execution_count": 8,
   "id": "2bafa3fc",
   "metadata": {},
   "outputs": [
    {
     "data": {
      "text/plain": [
       "array([[ 1,  2,  3,  4,  5,  6,  7,  8,  9, 10]])"
      ]
     },
     "execution_count": 8,
     "metadata": {},
     "output_type": "execute_result"
    }
   ],
   "source": [
    "arr.reshape(1,10)"
   ]
  },
  {
   "cell_type": "code",
   "execution_count": 9,
   "id": "f0c4883e",
   "metadata": {},
   "outputs": [
    {
     "data": {
      "text/plain": [
       "array([1, 1, 2, 2, 3, 3, 4, 4, 5, 5, 6, 6])"
      ]
     },
     "execution_count": 9,
     "metadata": {},
     "output_type": "execute_result"
    }
   ],
   "source": [
    "# repeat an array \n",
    "arr = np.array([1,2,3,4,5,6])\n",
    "np.repeat(arr,2)"
   ]
  },
  {
   "cell_type": "code",
   "execution_count": 10,
   "id": "9e90d320",
   "metadata": {},
   "outputs": [
    {
     "data": {
      "text/plain": [
       "(3, 2, 2)"
      ]
     },
     "execution_count": 10,
     "metadata": {},
     "output_type": "execute_result"
    }
   ],
   "source": [
    "  arr_3d = np.array([[[1, 2], [3, 4]],\n",
    "                   [[5, 6], [7, 8]],\n",
    "                   [[9, 10], [11, 12]]])\n",
    "arr_3d.shape"
   ]
  },
  {
   "cell_type": "code",
   "execution_count": 11,
   "id": "deb4a66e",
   "metadata": {},
   "outputs": [
    {
     "data": {
      "text/plain": [
       "array([[[ 1,  2],\n",
       "        [ 1,  2],\n",
       "        [ 1,  2],\n",
       "        [ 3,  4],\n",
       "        [ 3,  4],\n",
       "        [ 3,  4]],\n",
       "\n",
       "       [[ 5,  6],\n",
       "        [ 5,  6],\n",
       "        [ 5,  6],\n",
       "        [ 7,  8],\n",
       "        [ 7,  8],\n",
       "        [ 7,  8]],\n",
       "\n",
       "       [[ 9, 10],\n",
       "        [ 9, 10],\n",
       "        [ 9, 10],\n",
       "        [11, 12],\n",
       "        [11, 12],\n",
       "        [11, 12]]])"
      ]
     },
     "execution_count": 11,
     "metadata": {},
     "output_type": "execute_result"
    }
   ],
   "source": [
    "np.repeat(arr_3d,3,axis =1)\n"
   ]
  },
  {
   "cell_type": "code",
   "execution_count": 12,
   "id": "eaf34396",
   "metadata": {},
   "outputs": [
    {
     "data": {
      "text/plain": [
       "array([[1, 2, 3, 4],\n",
       "       [5, 6, 7, 8]])"
      ]
     },
     "execution_count": 12,
     "metadata": {},
     "output_type": "execute_result"
    }
   ],
   "source": [
    "#how to implement vertical stack \n",
    "arr1 = np.array([1,2,3,4])\n",
    "arr2 = np.array([5,6,7,8])\n",
    "np.vstack([arr1,arr2])"
   ]
  },
  {
   "cell_type": "code",
   "execution_count": null,
   "id": "0d699479",
   "metadata": {},
   "outputs": [],
   "source": [
    "np.vstack([arr2,arr2,arr1,arr1])"
   ]
  },
  {
   "cell_type": "code",
   "execution_count": null,
   "id": "eecfb20f",
   "metadata": {},
   "outputs": [],
   "source": [
    "arr3 = np.array([[1,2,3,4],[1,2,3,4]])\n",
    "np.vstack([arr1,arr3,arr2,arr3])"
   ]
  },
  {
   "cell_type": "code",
   "execution_count": 18,
   "id": "6057e4d5",
   "metadata": {},
   "outputs": [
    {
     "data": {
      "text/plain": [
       "array([[1, 2, 3, 4],\n",
       "       [5, 6, 7, 8]])"
      ]
     },
     "execution_count": 18,
     "metadata": {},
     "output_type": "execute_result"
    }
   ],
   "source": [
    "#how to implement vertical stack \n",
    "arr = np.array([[1,2,3,4],[5,6,7,8]])\n",
    "arr"
   ]
  },
  {
   "cell_type": "code",
   "execution_count": 19,
   "id": "b5976e02",
   "metadata": {},
   "outputs": [
    {
     "data": {
      "text/plain": [
       "array([[1, 2, 3, 4],\n",
       "       [5, 6, 7, 8]])"
      ]
     },
     "execution_count": 19,
     "metadata": {},
     "output_type": "execute_result"
    }
   ],
   "source": [
    "np.hstack([arr])"
   ]
  },
  {
   "cell_type": "code",
   "execution_count": 20,
   "id": "095156d2",
   "metadata": {},
   "outputs": [],
   "source": [
    "arr1= np.array([[9,10,11,12],[5,2,5,1]])"
   ]
  },
  {
   "cell_type": "code",
   "execution_count": 21,
   "id": "ffb4d709",
   "metadata": {},
   "outputs": [
    {
     "data": {
      "text/plain": [
       "array([[ 9, 10, 11, 12,  1,  2,  3,  4],\n",
       "       [ 5,  2,  5,  1,  5,  6,  7,  8]])"
      ]
     },
     "execution_count": 21,
     "metadata": {},
     "output_type": "execute_result"
    }
   ],
   "source": [
    "np.hstack([arr1,arr])"
   ]
  },
  {
   "cell_type": "code",
   "execution_count": 17,
   "id": "e58159a6",
   "metadata": {},
   "outputs": [
    {
     "data": {
      "text/plain": [
       "array([[[[1., 1., 1., 1.],\n",
       "         [1., 1., 1., 1.]],\n",
       "\n",
       "        [[1., 1., 1., 1.],\n",
       "         [1., 1., 1., 1.]],\n",
       "\n",
       "        [[1., 1., 1., 1.],\n",
       "         [1., 1., 1., 1.]]],\n",
       "\n",
       "\n",
       "       [[[1., 1., 1., 1.],\n",
       "         [1., 1., 1., 1.]],\n",
       "\n",
       "        [[1., 1., 1., 1.],\n",
       "         [1., 1., 1., 1.]],\n",
       "\n",
       "        [[1., 1., 1., 1.],\n",
       "         [1., 1., 1., 1.]]],\n",
       "\n",
       "\n",
       "       [[[1., 1., 1., 1.],\n",
       "         [1., 1., 1., 1.]],\n",
       "\n",
       "        [[1., 1., 1., 1.],\n",
       "         [1., 1., 1., 1.]],\n",
       "\n",
       "        [[1., 1., 1., 1.],\n",
       "         [1., 1., 1., 1.]]],\n",
       "\n",
       "\n",
       "       [[[1., 1., 1., 1.],\n",
       "         [1., 1., 1., 1.]],\n",
       "\n",
       "        [[1., 1., 1., 1.],\n",
       "         [1., 1., 1., 1.]],\n",
       "\n",
       "        [[1., 1., 1., 1.],\n",
       "         [1., 1., 1., 1.]]]])"
      ]
     },
     "execution_count": 17,
     "metadata": {},
     "output_type": "execute_result"
    }
   ],
   "source": [
    "#expanding and squeezing a array, squeezing is elminate the Removes axes of length 1 from the shape of the array.\n",
    "#Useful for removing unnecessary dimensions. and if you want to specifcly remove any axis then we can give that using axis = that particular axis\n",
    "arr = np.ones((4,3,2,4))\n",
    "arr"
   ]
  },
  {
   "cell_type": "code",
   "execution_count": 18,
   "id": "529d7f4b",
   "metadata": {},
   "outputs": [
    {
     "data": {
      "text/plain": [
       "4"
      ]
     },
     "execution_count": 18,
     "metadata": {},
     "output_type": "execute_result"
    }
   ],
   "source": [
    "arr.ndim\n",
    "# np.squeeze(arr)"
   ]
  },
  {
   "cell_type": "code",
   "execution_count": 22,
   "id": "c99fa2a9",
   "metadata": {},
   "outputs": [
    {
     "data": {
      "text/plain": [
       "(2, 4)"
      ]
     },
     "execution_count": 22,
     "metadata": {},
     "output_type": "execute_result"
    }
   ],
   "source": [
    "np.squeeze(arr).shape"
   ]
  },
  {
   "cell_type": "code",
   "execution_count": null,
   "id": "abf730f8",
   "metadata": {},
   "outputs": [],
   "source": [
    "arr.ndim\n"
   ]
  },
  {
   "cell_type": "code",
   "execution_count": null,
   "id": "a5cabdec",
   "metadata": {},
   "outputs": [],
   "source": [
    "\n",
    "arr1 = np.zeros((4,1,3,5,1))\n",
    "arr1.shape"
   ]
  },
  {
   "cell_type": "code",
   "execution_count": null,
   "id": "2d62c394",
   "metadata": {},
   "outputs": [],
   "source": [
    "np.squeeze(arr1).shape\n"
   ]
  },
  {
   "cell_type": "code",
   "execution_count": null,
   "id": "f1453bd3",
   "metadata": {},
   "outputs": [],
   "source": [
    "arr1.shape"
   ]
  },
  {
   "cell_type": "code",
   "execution_count": null,
   "id": "11a79df6",
   "metadata": {},
   "outputs": [],
   "source": [
    "np.squeeze(arr1,axis = 1).shape"
   ]
  },
  {
   "cell_type": "markdown",
   "id": "308c4993",
   "metadata": {},
   "source": []
  },
  {
   "cell_type": "code",
   "execution_count": 23,
   "id": "b416dec0",
   "metadata": {},
   "outputs": [],
   "source": [
    "#expanding\n",
    "arr = np.zeros([4,3,3])"
   ]
  },
  {
   "cell_type": "code",
   "execution_count": 24,
   "id": "1703b8cd",
   "metadata": {},
   "outputs": [
    {
     "data": {
      "text/plain": [
       "(4, 3, 3, 1)"
      ]
     },
     "execution_count": 24,
     "metadata": {},
     "output_type": "execute_result"
    }
   ],
   "source": [
    "np.expand_dims(arr,axis = 3).shape"
   ]
  },
  {
   "cell_type": "code",
   "execution_count": 25,
   "id": "aea82e6d",
   "metadata": {},
   "outputs": [
    {
     "name": "stdout",
     "output_type": "stream",
     "text": [
      "Original array:\n",
      "[[1 2 3]\n",
      " [4 5 6]\n",
      " [7 8 9]]\n",
      "\n",
      "Flattened array:\n",
      "[3232    2    3    4    5    6    7    8    9]\n",
      "[[1 2 3]\n",
      " [4 5 6]\n",
      " [7 8 9]]\n"
     ]
    }
   ],
   "source": [
    "import numpy as np\n",
    "\n",
    "# Creating a 2D array\n",
    "arr = np.array([[1, 2, 3], [4, 5, 6], [7, 8, 9]])\n",
    "\n",
    "# Using flatten to create a 1D copy of the array\n",
    "flattened_arr = arr.flatten()\n",
    "flattened_arr[0]=3232\n",
    "print(\"Original array:\")\n",
    "print(arr)\n",
    "print(\"\\nFlattened array:\")\n",
    "print(flattened_arr)\n",
    "print(arr)"
   ]
  },
  {
   "cell_type": "code",
   "execution_count": 26,
   "id": "fa5c92e6",
   "metadata": {},
   "outputs": [
    {
     "name": "stdout",
     "output_type": "stream",
     "text": [
      "Original array:\n",
      "[[1 2 3]\n",
      " [4 5 6]\n",
      " [7 8 9]]\n",
      "\n",
      "Raveled array:\n",
      "[1 2 3 4 5 6 7 8 9]\n",
      "\n",
      "Modified raveled array:\n",
      "[10  2  3  4  5  6  7  8  9]\n",
      "\n",
      "Original array after modifying the raveled array:\n",
      "[[10  2  3]\n",
      " [ 4  5  6]\n",
      " [ 7  8  9]]\n"
     ]
    }
   ],
   "source": [
    "import numpy as np\n",
    "\n",
    "# Creating a 2D array\n",
    "arr = np.array([[1, 2, 3], [4, 5, 6], [7, 8, 9]])\n",
    "\n",
    "# Using ravel to create a 1D view of the array\n",
    "raveled_arr = arr.ravel()\n",
    "\n",
    "print(\"Original array:\")\n",
    "print(arr)\n",
    "print(\"\\nRaveled array:\")\n",
    "print(raveled_arr)\n",
    "\n",
    "# Modifying the raveled array and showing it affects the original array\n",
    "raveled_arr[0] = 10\n",
    "\n",
    "print(\"\\nModified raveled array:\")\n",
    "print(raveled_arr)\n",
    "print(\"\\nOriginal array after modifying the raveled array:\")\n",
    "print(arr)\n"
   ]
  },
  {
   "cell_type": "code",
   "execution_count": 27,
   "id": "4107dc4e",
   "metadata": {},
   "outputs": [],
   "source": [
    "arr = np.array([[1, 2, 3], [4, 5, 6], [7, 8, 9]])"
   ]
  },
  {
   "cell_type": "code",
   "execution_count": 28,
   "id": "e30709a1",
   "metadata": {},
   "outputs": [
    {
     "data": {
      "text/plain": [
       "-9.51619735392994e-16"
      ]
     },
     "execution_count": 28,
     "metadata": {},
     "output_type": "execute_result"
    }
   ],
   "source": [
    "np.linalg.det(arr)"
   ]
  },
  {
   "cell_type": "code",
   "execution_count": 29,
   "id": "0d4f8553",
   "metadata": {},
   "outputs": [],
   "source": [
    " arr1= np.array([[1, 2, 3], [4, 5, 6], [7, 8, 9]])"
   ]
  },
  {
   "cell_type": "code",
   "execution_count": 30,
   "id": "a6e13db6",
   "metadata": {},
   "outputs": [
    {
     "data": {
      "text/plain": [
       "array([[ 30,  36,  42],\n",
       "       [ 66,  81,  96],\n",
       "       [102, 126, 150]])"
      ]
     },
     "execution_count": 30,
     "metadata": {},
     "output_type": "execute_result"
    }
   ],
   "source": [
    "np.matmul(arr,arr1)"
   ]
  },
  {
   "cell_type": "code",
   "execution_count": 31,
   "id": "91b73299",
   "metadata": {},
   "outputs": [],
   "source": [
    "arr3 = np.linspace(1,10,50, dtype = 'int16')"
   ]
  },
  {
   "cell_type": "code",
   "execution_count": 32,
   "id": "78d86792",
   "metadata": {},
   "outputs": [
    {
     "data": {
      "text/plain": [
       "array([ 1,  1,  1,  1,  1,  1,  2,  2,  2,  2,  2,  3,  3,  3,  3,  3,  3,\n",
       "        4,  4,  4,  4,  4,  5,  5,  5,  5,  5,  5,  6,  6,  6,  6,  6,  7,\n",
       "        7,  7,  7,  7,  7,  8,  8,  8,  8,  8,  9,  9,  9,  9,  9, 10],\n",
       "      dtype=int16)"
      ]
     },
     "execution_count": 32,
     "metadata": {},
     "output_type": "execute_result"
    }
   ],
   "source": [
    "arr3"
   ]
  },
  {
   "cell_type": "code",
   "execution_count": 34,
   "id": "15c20d11",
   "metadata": {},
   "outputs": [
    {
     "data": {
      "text/plain": [
       "array([[[[1., 1., 1., 1.],\n",
       "         [1., 1., 1., 1.]],\n",
       "\n",
       "        [[1., 1., 1., 1.],\n",
       "         [1., 1., 1., 1.]],\n",
       "\n",
       "        [[1., 1., 1., 1.],\n",
       "         [1., 1., 1., 1.]]],\n",
       "\n",
       "\n",
       "       [[[1., 1., 1., 1.],\n",
       "         [1., 1., 1., 1.]],\n",
       "\n",
       "        [[1., 1., 1., 1.],\n",
       "         [1., 1., 1., 1.]],\n",
       "\n",
       "        [[1., 1., 1., 1.],\n",
       "         [1., 1., 1., 1.]]],\n",
       "\n",
       "\n",
       "       [[[1., 1., 1., 1.],\n",
       "         [1., 1., 1., 1.]],\n",
       "\n",
       "        [[1., 1., 1., 1.],\n",
       "         [1., 1., 1., 1.]],\n",
       "\n",
       "        [[1., 1., 1., 1.],\n",
       "         [1., 1., 1., 1.]]],\n",
       "\n",
       "\n",
       "       [[[1., 1., 1., 1.],\n",
       "         [1., 1., 1., 1.]],\n",
       "\n",
       "        [[1., 1., 1., 1.],\n",
       "         [1., 1., 1., 1.]],\n",
       "\n",
       "        [[1., 1., 1., 1.],\n",
       "         [1., 1., 1., 1.]]]])"
      ]
     },
     "execution_count": 34,
     "metadata": {},
     "output_type": "execute_result"
    }
   ],
   "source": [
    "arr"
   ]
  },
  {
   "cell_type": "code",
   "execution_count": 33,
   "id": "fc9cd093",
   "metadata": {},
   "outputs": [
    {
     "ename": "IndexError",
     "evalue": "too many indices for array: array is 2-dimensional, but 3 were indexed",
     "output_type": "error",
     "traceback": [
      "\u001b[1;31m---------------------------------------------------------------------------\u001b[0m",
      "\u001b[1;31mIndexError\u001b[0m                                Traceback (most recent call last)",
      "Cell \u001b[1;32mIn[33], line 1\u001b[0m\n\u001b[1;32m----> 1\u001b[0m sliced \u001b[38;5;241m=\u001b[39marr[\u001b[38;5;241m0\u001b[39m:\u001b[38;5;241m2\u001b[39m,\u001b[38;5;241m1\u001b[39m:\u001b[38;5;241m4\u001b[39m,\u001b[38;5;241m2\u001b[39m:\u001b[38;5;241m3\u001b[39m]\n",
      "\u001b[1;31mIndexError\u001b[0m: too many indices for array: array is 2-dimensional, but 3 were indexed"
     ]
    }
   ],
   "source": [
    "sliced =arr[0:2,1:4,2:3]"
   ]
  },
  {
   "cell_type": "code",
   "execution_count": 34,
   "id": "3bf43871",
   "metadata": {},
   "outputs": [
    {
     "ename": "NameError",
     "evalue": "name 'sliced' is not defined",
     "output_type": "error",
     "traceback": [
      "\u001b[1;31m---------------------------------------------------------------------------\u001b[0m",
      "\u001b[1;31mNameError\u001b[0m                                 Traceback (most recent call last)",
      "Cell \u001b[1;32mIn[34], line 1\u001b[0m\n\u001b[1;32m----> 1\u001b[0m sliced\n",
      "\u001b[1;31mNameError\u001b[0m: name 'sliced' is not defined"
     ]
    }
   ],
   "source": [
    "sliced"
   ]
  },
  {
   "cell_type": "code",
   "execution_count": 35,
   "id": "8abe813b",
   "metadata": {},
   "outputs": [
    {
     "name": "stdout",
     "output_type": "stream",
     "text": [
      "Original array:\n",
      "[[[ 0  1  2  3  4]\n",
      "  [ 5  6  7  8  9]\n",
      "  [10 11 12 13 14]\n",
      "  [15 16 17 18 19]]\n",
      "\n",
      " [[20 21 22 23 24]\n",
      "  [25 26 27 28 29]\n",
      "  [30 31 32 33 34]\n",
      "  [35 36 37 38 39]]\n",
      "\n",
      " [[40 41 42 43 44]\n",
      "  [45 46 47 48 49]\n",
      "  [50 51 52 53 54]\n",
      "  [55 56 57 58 59]]]\n",
      "\n",
      "Sliced array:\n",
      "[[[ 2  3  4]\n",
      "  [ 7  8  9]\n",
      "  [12 13 14]\n",
      "  [17 18 19]]\n",
      "\n",
      " [[22 23 24]\n",
      "  [27 28 29]\n",
      "  [32 33 34]\n",
      "  [37 38 39]]]\n"
     ]
    }
   ],
   "source": [
    "import numpy as np\n",
    "\n",
    "# Create a 3D array with shape (3, 4, 5)\n",
    "arr = np.arange(60).reshape((3, 4, 5))\n",
    "\n",
    "# Display the original array\n",
    "print(\"Original array:\")\n",
    "print(arr)\n",
    "\n",
    "# Slicing the array\n",
    "sliced_arr = arr[0:2, 0:4, 2:]\n",
    "\n",
    "print(\"\\nSliced array:\")\n",
    "print(sliced_arr)\n"
   ]
  },
  {
   "cell_type": "code",
   "execution_count": 36,
   "id": "3ea08114",
   "metadata": {},
   "outputs": [],
   "source": [
    "arr = np.random.rand(2,2,3)"
   ]
  },
  {
   "cell_type": "code",
   "execution_count": 37,
   "id": "e271a19b",
   "metadata": {},
   "outputs": [
    {
     "data": {
      "text/plain": [
       "array([[[0.1056474 , 0.9083093 , 0.81002288],\n",
       "        [0.30944645, 0.9708992 , 0.02456174]],\n",
       "\n",
       "       [[0.18012546, 0.60785775, 0.83151668],\n",
       "        [0.32225127, 0.9646898 , 0.83346662]]])"
      ]
     },
     "execution_count": 37,
     "metadata": {},
     "output_type": "execute_result"
    }
   ],
   "source": [
    "arr"
   ]
  },
  {
   "cell_type": "code",
   "execution_count": 38,
   "id": "c72b8ac8",
   "metadata": {},
   "outputs": [],
   "source": [
    "arr = np.random.randint(1,441 , size= (2,4))"
   ]
  },
  {
   "cell_type": "code",
   "execution_count": 39,
   "id": "0fb9237f",
   "metadata": {},
   "outputs": [
    {
     "data": {
      "text/plain": [
       "array([[331,   6,  84, 355],\n",
       "       [365, 406,  25, 372]])"
      ]
     },
     "execution_count": 39,
     "metadata": {},
     "output_type": "execute_result"
    }
   ],
   "source": [
    "arr"
   ]
  },
  {
   "cell_type": "code",
   "execution_count": 71,
   "id": "80b01f49",
   "metadata": {},
   "outputs": [],
   "source": [
    "arr1 = np.zeros([2,2,4]) "
   ]
  },
  {
   "cell_type": "markdown",
   "id": "4f6041cf",
   "metadata": {},
   "source": [
    "arr1"
   ]
  },
  {
   "cell_type": "code",
   "execution_count": 72,
   "id": "68665702",
   "metadata": {},
   "outputs": [
    {
     "data": {
      "text/plain": [
       "array([[[0., 0., 0., 0.],\n",
       "        [0., 0., 0., 0.]],\n",
       "\n",
       "       [[0., 0., 0., 0.],\n",
       "        [0., 0., 0., 0.]]])"
      ]
     },
     "execution_count": 72,
     "metadata": {},
     "output_type": "execute_result"
    }
   ],
   "source": [
    "arr1"
   ]
  },
  {
   "cell_type": "code",
   "execution_count": 73,
   "id": "f764dde4",
   "metadata": {},
   "outputs": [],
   "source": [
    "arr = np.ones([3,3,3])"
   ]
  },
  {
   "cell_type": "code",
   "execution_count": 74,
   "id": "2c4e8fde",
   "metadata": {},
   "outputs": [
    {
     "data": {
      "text/plain": [
       "array([[[1., 1., 1.],\n",
       "        [1., 1., 1.],\n",
       "        [1., 1., 1.]],\n",
       "\n",
       "       [[1., 1., 1.],\n",
       "        [1., 1., 1.],\n",
       "        [1., 1., 1.]],\n",
       "\n",
       "       [[1., 1., 1.],\n",
       "        [1., 1., 1.],\n",
       "        [1., 1., 1.]]])"
      ]
     },
     "execution_count": 74,
     "metadata": {},
     "output_type": "execute_result"
    }
   ],
   "source": [
    "arr"
   ]
  },
  {
   "cell_type": "code",
   "execution_count": 75,
   "id": "09b23208",
   "metadata": {},
   "outputs": [],
   "source": [
    "arr = np.empty([2,2])"
   ]
  },
  {
   "cell_type": "code",
   "execution_count": 76,
   "id": "20520a9a",
   "metadata": {},
   "outputs": [
    {
     "data": {
      "text/plain": [
       "array([[0., 0.],\n",
       "       [0., 0.]])"
      ]
     },
     "execution_count": 76,
     "metadata": {},
     "output_type": "execute_result"
    }
   ],
   "source": [
    "arr"
   ]
  },
  {
   "cell_type": "code",
   "execution_count": 80,
   "id": "d31c752b",
   "metadata": {},
   "outputs": [],
   "source": [
    "arr = np.full((2,3,4),99)"
   ]
  },
  {
   "cell_type": "code",
   "execution_count": 81,
   "id": "cfb01577",
   "metadata": {},
   "outputs": [
    {
     "data": {
      "text/plain": [
       "array([[[99, 99, 99, 99],\n",
       "        [99, 99, 99, 99],\n",
       "        [99, 99, 99, 99]],\n",
       "\n",
       "       [[99, 99, 99, 99],\n",
       "        [99, 99, 99, 99],\n",
       "        [99, 99, 99, 99]]])"
      ]
     },
     "execution_count": 81,
     "metadata": {},
     "output_type": "execute_result"
    }
   ],
   "source": [
    "arr"
   ]
  },
  {
   "cell_type": "code",
   "execution_count": 89,
   "id": "38c2c5b5",
   "metadata": {},
   "outputs": [],
   "source": [
    "arr2 = arr.repeat(99, axis = 2)"
   ]
  },
  {
   "cell_type": "code",
   "execution_count": 90,
   "id": "bd7b223a",
   "metadata": {},
   "outputs": [
    {
     "data": {
      "text/plain": [
       "array([[[99, 99, 99, ..., 99, 99, 99],\n",
       "        [99, 99, 99, ..., 99, 99, 99],\n",
       "        [99, 99, 99, ..., 99, 99, 99]],\n",
       "\n",
       "       [[99, 99, 99, ..., 99, 99, 99],\n",
       "        [99, 99, 99, ..., 99, 99, 99],\n",
       "        [99, 99, 99, ..., 99, 99, 99]]])"
      ]
     },
     "execution_count": 90,
     "metadata": {},
     "output_type": "execute_result"
    }
   ],
   "source": [
    "arr2"
   ]
  },
  {
   "cell_type": "code",
   "execution_count": 91,
   "id": "c67a4c60",
   "metadata": {},
   "outputs": [
    {
     "data": {
      "text/plain": [
       "array([[[0., 0., 0., 0.],\n",
       "        [0., 0., 0., 0.]],\n",
       "\n",
       "       [[0., 0., 0., 0.],\n",
       "        [0., 0., 0., 0.]]])"
      ]
     },
     "execution_count": 91,
     "metadata": {},
     "output_type": "execute_result"
    }
   ],
   "source": [
    "arr1"
   ]
  },
  {
   "cell_type": "code",
   "execution_count": 92,
   "id": "caf9f826",
   "metadata": {},
   "outputs": [
    {
     "data": {
      "text/plain": [
       "array([[[99, 99, 99, ..., 99, 99, 99],\n",
       "        [99, 99, 99, ..., 99, 99, 99],\n",
       "        [99, 99, 99, ..., 99, 99, 99]],\n",
       "\n",
       "       [[99, 99, 99, ..., 99, 99, 99],\n",
       "        [99, 99, 99, ..., 99, 99, 99],\n",
       "        [99, 99, 99, ..., 99, 99, 99]]])"
      ]
     },
     "execution_count": 92,
     "metadata": {},
     "output_type": "execute_result"
    }
   ],
   "source": [
    "arr2"
   ]
  },
  {
   "cell_type": "code",
   "execution_count": 93,
   "id": "66db2372",
   "metadata": {},
   "outputs": [
    {
     "data": {
      "text/plain": [
       "array([[[99, 99, 99, 99],\n",
       "        [99, 99, 99, 99],\n",
       "        [99, 99, 99, 99]],\n",
       "\n",
       "       [[99, 99, 99, 99],\n",
       "        [99, 99, 99, 99],\n",
       "        [99, 99, 99, 99]]])"
      ]
     },
     "execution_count": 93,
     "metadata": {},
     "output_type": "execute_result"
    }
   ],
   "source": [
    "arr"
   ]
  },
  {
   "cell_type": "code",
   "execution_count": 96,
   "id": "db6d23b3",
   "metadata": {},
   "outputs": [],
   "source": [
    "arr = np.arange(1,10,.05)"
   ]
  },
  {
   "cell_type": "code",
   "execution_count": 97,
   "id": "8eee9ef5",
   "metadata": {},
   "outputs": [
    {
     "data": {
      "text/plain": [
       "array([1.  , 1.05, 1.1 , 1.15, 1.2 , 1.25, 1.3 , 1.35, 1.4 , 1.45, 1.5 ,\n",
       "       1.55, 1.6 , 1.65, 1.7 , 1.75, 1.8 , 1.85, 1.9 , 1.95, 2.  , 2.05,\n",
       "       2.1 , 2.15, 2.2 , 2.25, 2.3 , 2.35, 2.4 , 2.45, 2.5 , 2.55, 2.6 ,\n",
       "       2.65, 2.7 , 2.75, 2.8 , 2.85, 2.9 , 2.95, 3.  , 3.05, 3.1 , 3.15,\n",
       "       3.2 , 3.25, 3.3 , 3.35, 3.4 , 3.45, 3.5 , 3.55, 3.6 , 3.65, 3.7 ,\n",
       "       3.75, 3.8 , 3.85, 3.9 , 3.95, 4.  , 4.05, 4.1 , 4.15, 4.2 , 4.25,\n",
       "       4.3 , 4.35, 4.4 , 4.45, 4.5 , 4.55, 4.6 , 4.65, 4.7 , 4.75, 4.8 ,\n",
       "       4.85, 4.9 , 4.95, 5.  , 5.05, 5.1 , 5.15, 5.2 , 5.25, 5.3 , 5.35,\n",
       "       5.4 , 5.45, 5.5 , 5.55, 5.6 , 5.65, 5.7 , 5.75, 5.8 , 5.85, 5.9 ,\n",
       "       5.95, 6.  , 6.05, 6.1 , 6.15, 6.2 , 6.25, 6.3 , 6.35, 6.4 , 6.45,\n",
       "       6.5 , 6.55, 6.6 , 6.65, 6.7 , 6.75, 6.8 , 6.85, 6.9 , 6.95, 7.  ,\n",
       "       7.05, 7.1 , 7.15, 7.2 , 7.25, 7.3 , 7.35, 7.4 , 7.45, 7.5 , 7.55,\n",
       "       7.6 , 7.65, 7.7 , 7.75, 7.8 , 7.85, 7.9 , 7.95, 8.  , 8.05, 8.1 ,\n",
       "       8.15, 8.2 , 8.25, 8.3 , 8.35, 8.4 , 8.45, 8.5 , 8.55, 8.6 , 8.65,\n",
       "       8.7 , 8.75, 8.8 , 8.85, 8.9 , 8.95, 9.  , 9.05, 9.1 , 9.15, 9.2 ,\n",
       "       9.25, 9.3 , 9.35, 9.4 , 9.45, 9.5 , 9.55, 9.6 , 9.65, 9.7 , 9.75,\n",
       "       9.8 , 9.85, 9.9 , 9.95])"
      ]
     },
     "execution_count": 97,
     "metadata": {},
     "output_type": "execute_result"
    }
   ],
   "source": [
    "arr"
   ]
  },
  {
   "cell_type": "code",
   "execution_count": 99,
   "id": "46105abf",
   "metadata": {},
   "outputs": [
    {
     "data": {
      "text/plain": [
       "3.150000000000002"
      ]
     },
     "execution_count": 99,
     "metadata": {},
     "output_type": "execute_result"
    }
   ],
   "source": [
    "arr[43]"
   ]
  },
  {
   "cell_type": "code",
   "execution_count": 100,
   "id": "4419fe9a",
   "metadata": {},
   "outputs": [
    {
     "data": {
      "text/plain": [
       "5.475000000000004"
      ]
     },
     "execution_count": 100,
     "metadata": {},
     "output_type": "execute_result"
    }
   ],
   "source": [
    "arr.mean()"
   ]
  },
  {
   "cell_type": "code",
   "execution_count": 41,
   "id": "0117f603",
   "metadata": {},
   "outputs": [
    {
     "data": {
      "text/plain": [
       "160.99534154751186"
      ]
     },
     "execution_count": 41,
     "metadata": {},
     "output_type": "execute_result"
    }
   ],
   "source": [
    "arr.std()"
   ]
  },
  {
   "cell_type": "code",
   "execution_count": 43,
   "id": "2894aca6",
   "metadata": {},
   "outputs": [
    {
     "ename": "AttributeError",
     "evalue": "'numpy.ndarray' object has no attribute 'describe'",
     "output_type": "error",
     "traceback": [
      "\u001b[1;31m---------------------------------------------------------------------------\u001b[0m",
      "\u001b[1;31mAttributeError\u001b[0m                            Traceback (most recent call last)",
      "Cell \u001b[1;32mIn[43], line 1\u001b[0m\n\u001b[1;32m----> 1\u001b[0m arr\u001b[38;5;241m.\u001b[39mdescribe()\n",
      "\u001b[1;31mAttributeError\u001b[0m: 'numpy.ndarray' object has no attribute 'describe'"
     ]
    }
   ],
   "source": [
    "arr.describe()"
   ]
  },
  {
   "cell_type": "code",
   "execution_count": 44,
   "id": "e8c41dc0",
   "metadata": {},
   "outputs": [
    {
     "data": {
      "text/plain": [
       "1944"
      ]
     },
     "execution_count": 44,
     "metadata": {},
     "output_type": "execute_result"
    }
   ],
   "source": [
    "arr.sum()"
   ]
  },
  {
   "cell_type": "code",
   "execution_count": 45,
   "id": "fcbed202",
   "metadata": {},
   "outputs": [
    {
     "data": {
      "text/plain": [
       "array([[1, 2, 3],\n",
       "       [4, 5, 6],\n",
       "       [7, 8, 9]])"
      ]
     },
     "execution_count": 45,
     "metadata": {},
     "output_type": "execute_result"
    }
   ],
   "source": [
    "arr1"
   ]
  },
  {
   "cell_type": "code",
   "execution_count": 46,
   "id": "d8c1c6a7",
   "metadata": {},
   "outputs": [
    {
     "data": {
      "text/plain": [
       "array([5, 6, 7, 8])"
      ]
     },
     "execution_count": 46,
     "metadata": {},
     "output_type": "execute_result"
    }
   ],
   "source": [
    "arr2"
   ]
  },
  {
   "cell_type": "code",
   "execution_count": 47,
   "id": "e669f887",
   "metadata": {},
   "outputs": [
    {
     "ename": "ValueError",
     "evalue": "shapes (3,3) and (4,) not aligned: 3 (dim 1) != 4 (dim 0)",
     "output_type": "error",
     "traceback": [
      "\u001b[1;31m---------------------------------------------------------------------------\u001b[0m",
      "\u001b[1;31mValueError\u001b[0m                                Traceback (most recent call last)",
      "Cell \u001b[1;32mIn[47], line 1\u001b[0m\n\u001b[1;32m----> 1\u001b[0m np\u001b[38;5;241m.\u001b[39mdot(arr1,arr2)\n",
      "\u001b[1;31mValueError\u001b[0m: shapes (3,3) and (4,) not aligned: 3 (dim 1) != 4 (dim 0)"
     ]
    }
   ],
   "source": [
    "np.dot(arr1,arr2)"
   ]
  },
  {
   "cell_type": "code",
   "execution_count": 48,
   "id": "6c1021bc",
   "metadata": {},
   "outputs": [
    {
     "ename": "ValueError",
     "evalue": "matmul: Input operand 1 has a mismatch in its core dimension 0, with gufunc signature (n?,k),(k,m?)->(n?,m?) (size 4 is different from 3)",
     "output_type": "error",
     "traceback": [
      "\u001b[1;31m---------------------------------------------------------------------------\u001b[0m",
      "\u001b[1;31mValueError\u001b[0m                                Traceback (most recent call last)",
      "Cell \u001b[1;32mIn[48], line 1\u001b[0m\n\u001b[1;32m----> 1\u001b[0m np\u001b[38;5;241m.\u001b[39mmatmul(arr1,arr2)\n",
      "\u001b[1;31mValueError\u001b[0m: matmul: Input operand 1 has a mismatch in its core dimension 0, with gufunc signature (n?,k),(k,m?)->(n?,m?) (size 4 is different from 3)"
     ]
    }
   ],
   "source": [
    "np.matmul(arr1,arr2)"
   ]
  },
  {
   "cell_type": "code",
   "execution_count": 49,
   "id": "2743f060",
   "metadata": {},
   "outputs": [],
   "source": [
    "arr1 = np.arange(1,16).reshape(3,5)"
   ]
  },
  {
   "cell_type": "code",
   "execution_count": 50,
   "id": "7a0c15ec",
   "metadata": {},
   "outputs": [
    {
     "data": {
      "text/plain": [
       "array([[ 1,  2,  3,  4,  5],\n",
       "       [ 6,  7,  8,  9, 10],\n",
       "       [11, 12, 13, 14, 15]])"
      ]
     },
     "execution_count": 50,
     "metadata": {},
     "output_type": "execute_result"
    }
   ],
   "source": [
    "arr1"
   ]
  },
  {
   "cell_type": "code",
   "execution_count": 51,
   "id": "df8f83fc",
   "metadata": {},
   "outputs": [],
   "source": [
    "arr2 = np.arange(10,25).reshape(5,3)"
   ]
  },
  {
   "cell_type": "code",
   "execution_count": 52,
   "id": "f20e933f",
   "metadata": {},
   "outputs": [
    {
     "data": {
      "text/plain": [
       "array([[ 270,  285,  300],\n",
       "       [ 670,  710,  750],\n",
       "       [1070, 1135, 1200]])"
      ]
     },
     "execution_count": 52,
     "metadata": {},
     "output_type": "execute_result"
    }
   ],
   "source": [
    "np.dot(arr1,arr2)"
   ]
  },
  {
   "cell_type": "code",
   "execution_count": 53,
   "id": "c088030d",
   "metadata": {},
   "outputs": [
    {
     "data": {
      "text/plain": [
       "array([[ 270,  285,  300],\n",
       "       [ 670,  710,  750],\n",
       "       [1070, 1135, 1200]])"
      ]
     },
     "execution_count": 53,
     "metadata": {},
     "output_type": "execute_result"
    }
   ],
   "source": [
    "np.matmul(arr1,arr2)"
   ]
  },
  {
   "cell_type": "code",
   "execution_count": 54,
   "id": "f0dd45f6",
   "metadata": {
    "scrolled": true
   },
   "outputs": [
    {
     "ename": "LinAlgError",
     "evalue": "Last 2 dimensions of the array must be square",
     "output_type": "error",
     "traceback": [
      "\u001b[1;31m---------------------------------------------------------------------------\u001b[0m",
      "\u001b[1;31mLinAlgError\u001b[0m                               Traceback (most recent call last)",
      "Cell \u001b[1;32mIn[54], line 1\u001b[0m\n\u001b[1;32m----> 1\u001b[0m np\u001b[38;5;241m.\u001b[39mlinalg\u001b[38;5;241m.\u001b[39mdet(arr1)\n",
      "File \u001b[1;32m~\\anaconda3\\Lib\\site-packages\\numpy\\linalg\\linalg.py:2177\u001b[0m, in \u001b[0;36mdet\u001b[1;34m(a)\u001b[0m\n\u001b[0;32m   2175\u001b[0m a \u001b[38;5;241m=\u001b[39m asarray(a)\n\u001b[0;32m   2176\u001b[0m _assert_stacked_2d(a)\n\u001b[1;32m-> 2177\u001b[0m _assert_stacked_square(a)\n\u001b[0;32m   2178\u001b[0m t, result_t \u001b[38;5;241m=\u001b[39m _commonType(a)\n\u001b[0;32m   2179\u001b[0m signature \u001b[38;5;241m=\u001b[39m \u001b[38;5;124m'\u001b[39m\u001b[38;5;124mD->D\u001b[39m\u001b[38;5;124m'\u001b[39m \u001b[38;5;28;01mif\u001b[39;00m isComplexType(t) \u001b[38;5;28;01melse\u001b[39;00m \u001b[38;5;124m'\u001b[39m\u001b[38;5;124md->d\u001b[39m\u001b[38;5;124m'\u001b[39m\n",
      "File \u001b[1;32m~\\anaconda3\\Lib\\site-packages\\numpy\\linalg\\linalg.py:213\u001b[0m, in \u001b[0;36m_assert_stacked_square\u001b[1;34m(*arrays)\u001b[0m\n\u001b[0;32m    211\u001b[0m m, n \u001b[38;5;241m=\u001b[39m a\u001b[38;5;241m.\u001b[39mshape[\u001b[38;5;241m-\u001b[39m\u001b[38;5;241m2\u001b[39m:]\n\u001b[0;32m    212\u001b[0m \u001b[38;5;28;01mif\u001b[39;00m m \u001b[38;5;241m!=\u001b[39m n:\n\u001b[1;32m--> 213\u001b[0m     \u001b[38;5;28;01mraise\u001b[39;00m LinAlgError(\u001b[38;5;124m'\u001b[39m\u001b[38;5;124mLast 2 dimensions of the array must be square\u001b[39m\u001b[38;5;124m'\u001b[39m)\n",
      "\u001b[1;31mLinAlgError\u001b[0m: Last 2 dimensions of the array must be square"
     ]
    }
   ],
   "source": [
    "np.linalg.det(arr1)"
   ]
  },
  {
   "cell_type": "code",
   "execution_count": 141,
   "id": "d6f77c69",
   "metadata": {},
   "outputs": [],
   "source": [
    "arr1 = np.linspace(0,10,8, dtype = float)"
   ]
  },
  {
   "cell_type": "code",
   "execution_count": 146,
   "id": "1ba41d35",
   "metadata": {},
   "outputs": [
    {
     "data": {
      "text/plain": [
       "array([ 0.        ,  1.42857143,  2.85714286,  4.28571429,  5.71428571,\n",
       "        7.14285714,  8.57142857, 10.        ])"
      ]
     },
     "execution_count": 146,
     "metadata": {},
     "output_type": "execute_result"
    }
   ],
   "source": [
    "arr1"
   ]
  },
  {
   "cell_type": "code",
   "execution_count": 55,
   "id": "c0732b37",
   "metadata": {},
   "outputs": [
    {
     "data": {
      "text/plain": [
       "array([[ 1,  6, 11],\n",
       "       [ 2,  7, 12],\n",
       "       [ 3,  8, 13],\n",
       "       [ 4,  9, 14],\n",
       "       [ 5, 10, 15]])"
      ]
     },
     "execution_count": 55,
     "metadata": {},
     "output_type": "execute_result"
    }
   ],
   "source": [
    "arr1.transpose()"
   ]
  },
  {
   "cell_type": "code",
   "execution_count": 56,
   "id": "d4572151",
   "metadata": {},
   "outputs": [
    {
     "data": {
      "text/plain": [
       "array([ 1,  2,  3,  4,  5,  6,  7,  8,  9, 10, 11, 12, 13, 14, 15])"
      ]
     },
     "execution_count": 56,
     "metadata": {},
     "output_type": "execute_result"
    }
   ],
   "source": [
    "arr1.flatten()"
   ]
  },
  {
   "cell_type": "code",
   "execution_count": 57,
   "id": "78282c54",
   "metadata": {},
   "outputs": [
    {
     "data": {
      "text/plain": [
       "array([ 1,  1,  1,  1,  1,  1,  2,  2,  2,  2,  2,  3,  3,  3,  3,  3,  3,\n",
       "        4,  4,  4,  4,  4,  5,  5,  5,  5,  5,  5,  6,  6,  6,  6,  6,  7,\n",
       "        7,  7,  7,  7,  7,  8,  8,  8,  8,  8,  9,  9,  9,  9,  9, 10],\n",
       "      dtype=int16)"
      ]
     },
     "execution_count": 57,
     "metadata": {},
     "output_type": "execute_result"
    }
   ],
   "source": [
    "arr3"
   ]
  },
  {
   "cell_type": "code",
   "execution_count": 58,
   "id": "48cbe89c",
   "metadata": {},
   "outputs": [
    {
     "data": {
      "text/plain": [
       "array([ 1,  1,  1,  1,  1,  1,  2,  2,  2,  2,  2,  3,  3,  3,  3,  3,  3,\n",
       "        4,  4,  4,  4,  4,  5,  5,  5,  5,  5,  5,  6,  6,  6,  6,  6,  7,\n",
       "        7,  7,  7,  7,  7,  8,  8,  8,  8,  8,  9,  9,  9,  9,  9, 10],\n",
       "      dtype=int16)"
      ]
     },
     "execution_count": 58,
     "metadata": {},
     "output_type": "execute_result"
    }
   ],
   "source": [
    "arr3.flatten()"
   ]
  },
  {
   "cell_type": "code",
   "execution_count": 59,
   "id": "aaafe04f",
   "metadata": {},
   "outputs": [],
   "source": [
    "arr5 = np.arange(1,13).reshape(3,2,2)"
   ]
  },
  {
   "cell_type": "code",
   "execution_count": 60,
   "id": "6bd71129",
   "metadata": {},
   "outputs": [
    {
     "data": {
      "text/plain": [
       "3"
      ]
     },
     "execution_count": 60,
     "metadata": {},
     "output_type": "execute_result"
    }
   ],
   "source": [
    "arr5.ndim"
   ]
  },
  {
   "cell_type": "code",
   "execution_count": 61,
   "id": "bf5a238a",
   "metadata": {},
   "outputs": [
    {
     "data": {
      "text/plain": [
       "array([[[ 1,  2],\n",
       "        [ 3,  4]],\n",
       "\n",
       "       [[ 5,  6],\n",
       "        [ 7,  8]],\n",
       "\n",
       "       [[ 9, 10],\n",
       "        [11, 12]]])"
      ]
     },
     "execution_count": 61,
     "metadata": {},
     "output_type": "execute_result"
    }
   ],
   "source": [
    "arr5"
   ]
  },
  {
   "cell_type": "code",
   "execution_count": 62,
   "id": "d4d834ab",
   "metadata": {},
   "outputs": [
    {
     "data": {
      "text/plain": [
       "array([ 1,  2,  3,  4,  5,  6,  7,  8,  9, 10, 11, 12])"
      ]
     },
     "execution_count": 62,
     "metadata": {},
     "output_type": "execute_result"
    }
   ],
   "source": [
    "arr5.flatten()"
   ]
  },
  {
   "cell_type": "code",
   "execution_count": 65,
   "id": "d6dd9868",
   "metadata": {},
   "outputs": [
    {
     "ename": "TypeError",
     "evalue": "only integer scalar arrays can be converted to a scalar index",
     "output_type": "error",
     "traceback": [
      "\u001b[1;31m---------------------------------------------------------------------------\u001b[0m",
      "\u001b[1;31mTypeError\u001b[0m                                 Traceback (most recent call last)",
      "Cell \u001b[1;32mIn[65], line 1\u001b[0m\n\u001b[1;32m----> 1\u001b[0m np\u001b[38;5;241m.\u001b[39mconcatenate(arr1,arr5)\n",
      "\u001b[1;31mTypeError\u001b[0m: only integer scalar arrays can be converted to a scalar index"
     ]
    }
   ],
   "source": [
    "np.concatenate(arr1,arr5)"
   ]
  },
  {
   "cell_type": "code",
   "execution_count": 66,
   "id": "4092c2d7",
   "metadata": {},
   "outputs": [
    {
     "name": "stdout",
     "output_type": "stream",
     "text": [
      "Concatenated along axis 0:\n",
      "[[ 1  2  3]\n",
      " [ 4  5  6]\n",
      " [ 7  8  9]\n",
      " [10 11 12]]\n",
      "\n",
      "Concatenated along axis 1:\n",
      "[[ 1  2  3  7  8  9]\n",
      " [ 4  5  6 10 11 12]]\n"
     ]
    }
   ],
   "source": [
    "import numpy as np\n",
    "\n",
    "# Define two arrays\n",
    "arr1 = np.array([[1, 2, 3],\n",
    "                 [4, 5, 6]])\n",
    "\n",
    "arr2 = np.array([[7, 8, 9],\n",
    "                 [10, 11, 12]])\n",
    "\n",
    "# Concatenate along axis 0 (vertically)\n",
    "concat_axis_0 = np.concatenate((arr1, arr2), axis=0)\n",
    "\n",
    "# Concatenate along axis 1 (horizontally)\n",
    "concat_axis_1 = np.concatenate((arr1, arr2), axis=1)\n",
    "\n",
    "print(\"Concatenated along axis 0:\")\n",
    "print(concat_axis_0)\n",
    "\n",
    "print(\"\\nConcatenated along axis 1:\")\n",
    "print(concat_axis_1)\n"
   ]
  },
  {
   "cell_type": "code",
   "execution_count": null,
   "id": "019523a2",
   "metadata": {},
   "outputs": [],
   "source": []
  }
 ],
 "metadata": {
  "kernelspec": {
   "display_name": "Python 3 (ipykernel)",
   "language": "python",
   "name": "python3"
  },
  "language_info": {
   "codemirror_mode": {
    "name": "ipython",
    "version": 3
   },
   "file_extension": ".py",
   "mimetype": "text/x-python",
   "name": "python",
   "nbconvert_exporter": "python",
   "pygments_lexer": "ipython3",
   "version": "3.11.7"
  }
 },
 "nbformat": 4,
 "nbformat_minor": 5
}
